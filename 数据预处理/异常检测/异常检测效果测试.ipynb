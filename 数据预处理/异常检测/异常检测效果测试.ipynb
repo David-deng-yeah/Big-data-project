{
 "cells": [
  {
   "cell_type": "code",
   "execution_count": 1,
   "metadata": {},
   "outputs": [],
   "source": [
    "from anomaly_detection import anomaly_detection_, plot_pca\n",
    "import numpy as np\n",
    "import pandas as pd\n",
    "import matplotlib.pyplot as plt"
   ]
  },
  {
   "cell_type": "code",
   "execution_count": 18,
   "metadata": {},
   "outputs": [],
   "source": [
    "RSP1 = pd.read_csv('../../RSP数据块/Block 1.csv')\n",
    "RSP1_AD = pd.read_csv('../../RSP_AD/Block 1 AD 0.003.csv')"
   ]
  },
  {
   "cell_type": "code",
   "execution_count": 15,
   "metadata": {},
   "outputs": [],
   "source": [
    "df_test = pd.read_csv('C:/Users/86135/Desktop/大数据处理大作业/test.csv')\n",
    "X_test = df_test.drop('label', axis=1).values\n",
    "y_test = df_test['label'].values"
   ]
  },
  {
   "cell_type": "code",
   "execution_count": 14,
   "metadata": {},
   "outputs": [],
   "source": [
    "from sklearn.ensemble import RandomForestClassifier\n",
    "\n",
    "X_rsp1 = RSP1.drop('label',axis=1).values\n",
    "y_rsp1 = RSP1['label'].values\n",
    "\n",
    "X_rsp1AD = RSP1_AD.drop('label',axis=1).values\n",
    "y_rsp1AD = RSP1_AD['label'].values"
   ]
  },
  {
   "cell_type": "code",
   "execution_count": null,
   "metadata": {},
   "outputs": [],
   "source": [
    "clf1 = RandomForestClassifier().fit(X_rsp1, y_rsp1)"
   ]
  },
  {
   "cell_type": "code",
   "execution_count": 19,
   "metadata": {},
   "outputs": [],
   "source": [
    "clf2 = RandomForestClassifier().fit(X_rsp1AD, y_rsp1AD)"
   ]
  },
  {
   "cell_type": "code",
   "execution_count": 16,
   "metadata": {},
   "outputs": [
    {
     "name": "stdout",
     "output_type": "stream",
     "text": [
      "clf1 scores:  0.72472\n",
      "clf2 scores:  0.7244227272727273\n"
     ]
    }
   ],
   "source": [
    "print('clf1 scores: ', clf1.score(X_test, y_test))"
   ]
  },
  {
   "cell_type": "code",
   "execution_count": 20,
   "metadata": {},
   "outputs": [
    {
     "name": "stdout",
     "output_type": "stream",
     "text": [
      "clf2 scores:  0.7243657575757576\n"
     ]
    }
   ],
   "source": [
    "print('clf2 scores: ', clf2.score(X_test, y_test))"
   ]
  },
  {
   "cell_type": "code",
   "execution_count": 17,
   "metadata": {},
   "outputs": [
    {
     "data": {
      "text/plain": [
       "0.9999935064935065"
      ]
     },
     "execution_count": 17,
     "metadata": {},
     "output_type": "execute_result"
    }
   ],
   "source": [
    "clf1.score(X_rsp1, y_rsp1)"
   ]
  },
  {
   "cell_type": "markdown",
   "metadata": {},
   "source": [
    "## 测试异常值比例对acc的影响"
   ]
  },
  {
   "cell_type": "code",
   "execution_count": 26,
   "metadata": {},
   "outputs": [
    {
     "name": "stdout",
     "output_type": "stream",
     "text": [
      "AD_rate:  0.001\n",
      "0.001 :  0.7243678787878788\n",
      "AD_rate:  0.008\n",
      "0.008 :  0.7246048484848485\n",
      "AD_rate:  0.01\n",
      "0.01 :  0.7243872727272728\n",
      "AD_rate:  0.015\n",
      "0.015 :  0.7247075757575757\n"
     ]
    }
   ],
   "source": [
    "# score_list = []\n",
    "# for AD_rate in [0.001, 0.008, 0.01, 0.015]:\n",
    "#     print('AD_rate: ', AD_rate)\n",
    "#     block_AD, _ = anomaly_detection_(RSP1, Standard=False, outliers_fraction=AD_rate)# 不标准化\n",
    "#     X_rsp1AD = block_AD.drop('label', axis=1).values\n",
    "#     y_rsp1AD = block_AD['label'].values\n",
    "#     clf = RandomForestClassifier().fit(X_rsp1AD, y_rsp1AD)\n",
    "#     tmp_score = clf.score(X_test, y_test)\n",
    "#     score_list.append(tmp_score)\n",
    "#     print(AD_rate, ': ', tmp_score)"
   ]
  },
  {
   "cell_type": "code",
   "execution_count": 25,
   "metadata": {},
   "outputs": [
    {
     "name": "stdout",
     "output_type": "stream",
     "text": [
      "AD_rate:  0.007\n",
      "0.007 :  0.7247206060606061\n",
      "AD_rate:  0.02\n",
      "0.02 :  0.7240475757575757\n",
      "AD_rate:  0.03\n",
      "0.03 :  0.7238666666666667\n",
      "AD_rate:  0.04\n",
      "0.04 :  0.7236487878787878\n"
     ]
    }
   ],
   "source": [
    "# score_list = []\n",
    "# for AD_rate in [0.007, 0.02, 0.03, 0.04]:\n",
    "#     print('AD_rate: ', AD_rate)\n",
    "#     block_AD, _ = anomaly_detection_(RSP1, Standard=False, outliers_fraction=AD_rate)# 不标准化\n",
    "#     X_rsp1AD = block_AD.drop('label', axis=1).values\n",
    "#     y_rsp1AD = block_AD['label'].values\n",
    "#     clf = RandomForestClassifier().fit(X_rsp1AD, y_rsp1AD)\n",
    "#     tmp_score = clf.score(X_test, y_test)\n",
    "#     score_list.append(tmp_score)\n",
    "#     print(AD_rate, ': ', tmp_score)"
   ]
  },
  {
   "cell_type": "code",
   "execution_count": 27,
   "metadata": {},
   "outputs": [
    {
     "name": "stdout",
     "output_type": "stream",
     "text": [
      "AD_rate:  0.1\n",
      "0.1 :  0.7218778787878788\n",
      "AD_rate:  0.2\n",
      "0.2 :  0.7183990909090909\n"
     ]
    }
   ],
   "source": [
    "# score_list = []\n",
    "# for AD_rate in [0.1, 0.2]:\n",
    "#     print('AD_rate: ', AD_rate)\n",
    "#     block_AD, _ = anomaly_detection_(RSP1, Standard=False, outliers_fraction=AD_rate)# 不标准化\n",
    "#     X_rsp1AD = block_AD.drop('label', axis=1).values\n",
    "#     y_rsp1AD = block_AD['label'].values\n",
    "#     clf = RandomForestClassifier().fit(X_rsp1AD, y_rsp1AD)\n",
    "#     tmp_score = clf.score(X_test, y_test)\n",
    "#     score_list.append(tmp_score)\n",
    "#     print(AD_rate, ': ', tmp_score)"
   ]
  },
  {
   "cell_type": "markdown",
   "metadata": {},
   "source": [
    "0.001 :  0.7243678787878788\n",
    "0.007 :  0.7247206060606061\n",
    "0.008 :  0.7246048484848485\n",
    "0.010 :  0.7243872727272728\n",
    "0.015 :  0.7247075757575757\n",
    "0.020 :  0.7240475757575757\n",
    "0.030 :  0.7238666666666667\n",
    "0.040 :  0.7236487878787878\n",
    "0.100 :  0.7218778787878788\n",
    "0.200 :  0.7183990909090909"
   ]
  },
  {
   "cell_type": "markdown",
   "metadata": {},
   "source": [
    "测试 rate 0.001到0.01"
   ]
  },
  {
   "cell_type": "code",
   "execution_count": 29,
   "metadata": {},
   "outputs": [
    {
     "name": "stdout",
     "output_type": "stream",
     "text": [
      "AD_rate:  0.001\n",
      "0.001 :  0.7241639393939394\n",
      "AD_rate:  0.002\n",
      "0.002 :  0.72421\n",
      "AD_rate:  0.003\n",
      "0.003 :  0.7243427272727273\n",
      "AD_rate:  0.004\n",
      "0.004 :  0.7244839393939394\n",
      "AD_rate:  0.005\n",
      "0.005 :  0.7245409090909091\n",
      "AD_rate:  0.006\n",
      "0.006 :  0.7249633333333333\n",
      "AD_rate:  0.007\n",
      "0.007 :  0.724509393939394\n",
      "AD_rate:  0.008\n",
      "0.008 :  0.7246042424242424\n",
      "AD_rate:  0.009000000000000001\n",
      "0.009000000000000001 :  0.7244836363636363\n",
      "AD_rate:  0.01\n",
      "0.01 :  0.7245118181818182\n"
     ]
    }
   ],
   "source": [
    "score_list = []\n",
    "for AD_rate in np.linspace(0.001, 0.01, 10):\n",
    "    print('AD_rate: ', AD_rate)\n",
    "    block_AD, _ = anomaly_detection_(RSP1, Standard=False, outliers_fraction=AD_rate)# 不标准化\n",
    "    X_rsp1AD = block_AD.drop('label', axis=1).values\n",
    "    y_rsp1AD = block_AD['label'].values\n",
    "    clf = RandomForestClassifier().fit(X_rsp1AD, y_rsp1AD)\n",
    "    tmp_score = clf.score(X_test, y_test)\n",
    "    score_list.append(tmp_score)\n",
    "    print(AD_rate, ': ', tmp_score)"
   ]
  },
  {
   "cell_type": "markdown",
   "metadata": {},
   "source": [
    "发现0.004到0.006表现不错"
   ]
  },
  {
   "cell_type": "code",
   "execution_count": 33,
   "metadata": {},
   "outputs": [
    {
     "data": {
      "image/png": "[encoded data removed]",
      "text/plain": [
       "<Figure size 432x288 with 1 Axes>"
      ]
     },
     "metadata": {
      "needs_background": "light"
     },
     "output_type": "display_data"
    }
   ],
   "source": [
    "plt.plot(range(len(score_list)), score_list)\n",
    "_ = plt.xticks(range(len(score_list)))\n",
    "plt.grid()"
   ]
  },
  {
   "cell_type": "code",
   "execution_count": 35,
   "metadata": {},
   "outputs": [
    {
     "name": "stdout",
     "output_type": "stream",
     "text": [
      "AD_rate:  0.004\n",
      "0.004 :  0.7245369696969697\n",
      "AD_rate:  0.004222222222222223\n",
      "0.004222222222222223 :  0.724729696969697\n",
      "AD_rate:  0.0044444444444444444\n",
      "0.0044444444444444444 :  0.7243636363636363\n",
      "AD_rate:  0.004666666666666667\n",
      "0.004666666666666667 :  0.7243845454545454\n",
      "AD_rate:  0.004888888888888889\n",
      "0.004888888888888889 :  0.7246087878787879\n",
      "AD_rate:  0.005111111111111111\n",
      "0.005111111111111111 :  0.724469090909091\n",
      "AD_rate:  0.005333333333333334\n",
      "0.005333333333333334 :  0.7243890909090909\n",
      "AD_rate:  0.005555555555555556\n",
      "0.005555555555555556 :  0.7245227272727273\n",
      "AD_rate:  0.0057777777777777775\n",
      "0.0057777777777777775 :  0.7246533333333334\n",
      "AD_rate:  0.006\n",
      "0.006 :  0.7243633333333334\n"
     ]
    }
   ],
   "source": [
    "score_list = []\n",
    "for AD_rate in np.linspace(0.004, 0.006, 10):\n",
    "    print('AD_rate: ', AD_rate)\n",
    "    block_AD, _ = anomaly_detection_(RSP1, Standard=False, outliers_fraction=AD_rate)# 不标准化\n",
    "    X_rsp1AD = block_AD.drop('label', axis=1).values\n",
    "    y_rsp1AD = block_AD['label'].values\n",
    "    clf = RandomForestClassifier().fit(X_rsp1AD, y_rsp1AD)\n",
    "    tmp_score = clf.score(X_test, y_test)\n",
    "    score_list.append(tmp_score)\n",
    "    print(AD_rate, ': ', tmp_score)"
   ]
  },
  {
   "cell_type": "code",
   "execution_count": 36,
   "metadata": {},
   "outputs": [
    {
     "data": {
      "image/png": "[encoded data removed]",
      "text/plain": [
       "<Figure size 432x288 with 1 Axes>"
      ]
     },
     "metadata": {
      "needs_background": "light"
     },
     "output_type": "display_data"
    }
   ],
   "source": [
    "plt.plot(range(len(score_list)), score_list)\n",
    "_ = plt.xticks(range(len(score_list)))\n",
    "plt.grid()"
   ]
  },
  {
   "cell_type": "code",
   "execution_count": null,
   "metadata": {},
   "outputs": [],
   "source": []
  }
 ],
 "metadata": {
  "interpreter": {
   "hash": "038eda8c76a1951754e57bd035650513593351de2fceb436ce8ff357ea69701f"
  },
  "kernelspec": {
   "display_name": "Python 3.7.9 64-bit ('base': conda)",
   "language": "python",
   "name": "python3"
  },
  "language_info": {
   "codemirror_mode": {
    "name": "ipython",
    "version": 3
   },
   "file_extension": ".py",
   "mimetype": "text/x-python",
   "name": "python",
   "nbconvert_exporter": "python",
   "pygments_lexer": "ipython3",
   "version": "3.7.9"
  },
  "orig_nbformat": 4
 },
 "nbformat": 4,
 "nbformat_minor": 2
}
