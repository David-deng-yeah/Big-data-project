{
 "cells": [
  {
   "cell_type": "code",
   "execution_count": 2,
   "metadata": {},
   "outputs": [],
   "source": [
    "from anomaly_detection import anomaly_detection_, plot_pca\n",
    "import numpy as np\n",
    "import pandas as pd\n",
    "import matplotlib.pyplot as plt"
   ]
  },
  {
   "cell_type": "markdown",
   "metadata": {},
   "source": [
    "## 导入数据"
   ]
  },
  {
   "cell_type": "code",
   "execution_count": 4,
   "metadata": {},
   "outputs": [
    {
     "name": "stdout",
     "output_type": "stream",
     "text": [
      "0   Block 1.csv\n",
      "1   Block 10.csv\n",
      "2   Block 11.csv\n",
      "3   Block 12.csv\n",
      "4   Block 13.csv\n",
      "5   Block 14.csv\n",
      "6   Block 15.csv\n",
      "7   Block 16.csv\n",
      "8   Block 17.csv\n",
      "9   Block 18.csv\n",
      "10   Block 19.csv\n",
      "11   Block 2.csv\n",
      "12   Block 20.csv\n",
      "13   Block 21.csv\n",
      "14   Block 22.csv\n",
      "15   Block 23.csv\n",
      "16   Block 24.csv\n",
      "17   Block 25.csv\n",
      "18   Block 26.csv\n",
      "19   Block 27.csv\n",
      "20   Block 28.csv\n",
      "21   Block 29.csv\n",
      "22   Block 3.csv\n",
      "23   Block 30.csv\n",
      "24   Block 31.csv\n",
      "25   Block 32.csv\n",
      "26   Block 4.csv\n",
      "27   Block 41.csv\n",
      "28   Block 42.csv\n",
      "29   Block 5.csv\n",
      "30   Block 6.csv\n",
      "31   Block 7.csv\n",
      "32   Block 8.csv\n",
      "33   Block 9.csv\n"
     ]
    }
   ],
   "source": [
    "import os\n",
    "BlockName_list = os.listdir('../../RSP数据块')\n",
    "path_read = '../../RSP数据块/'\n",
    "path_write = '../../RSP_AD/'\n",
    "AD_rate = 0.006\n",
    "\n",
    "for i, name in enumerate(BlockName_list):\n",
    "    print(i, '  ' + name)\n",
    "    # 异常检测过的rsp就跳过\n",
    "    # if True in [name.split('.')[0]+' ' in name_ad for name_ad in os.listdir(path_write)]:\n",
    "    #     continue\n",
    "    block = pd.read_csv(os.path.join(path_read, name))\n",
    "    block_AD, _ = anomaly_detection_(block, Standard=False, outliers_fraction=AD_rate)# 不标准化\n",
    "    block_AD.to_csv(os.path.join(path_write, name.split('.')[0]+' AD '+str(AD_rate)+'.csv'), index=False)"
   ]
  },
  {
   "cell_type": "code",
   "execution_count": null,
   "metadata": {},
   "outputs": [],
   "source": []
  }
 ],
 "metadata": {
  "interpreter": {
   "hash": "038eda8c76a1951754e57bd035650513593351de2fceb436ce8ff357ea69701f"
  },
  "kernelspec": {
   "display_name": "Python 3.7.9 64-bit ('base': conda)",
   "language": "python",
   "name": "python3"
  },
  "language_info": {
   "codemirror_mode": {
    "name": "ipython",
    "version": 3
   },
   "file_extension": ".py",
   "mimetype": "text/x-python",
   "name": "python",
   "nbconvert_exporter": "python",
   "pygments_lexer": "ipython3",
   "version": "3.7.9"
  },
  "orig_nbformat": 4
 },
 "nbformat": 4,
 "nbformat_minor": 2
}
