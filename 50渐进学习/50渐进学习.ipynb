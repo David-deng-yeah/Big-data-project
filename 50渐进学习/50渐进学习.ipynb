{
  "nbformat": 4,
  "nbformat_minor": 0,
  "metadata": {
    "colab": {
      "name": "50渐进学习",
      "provenance": [],
      "collapsed_sections": []
    },
    "kernelspec": {
      "name": "python3",
      "display_name": "Python 3"
    },
    "language_info": {
      "name": "python"
    },
    "accelerator": "GPU"
  },
  "cells": [
    {
      "cell_type": "code",
      "execution_count": 1,
      "metadata": {
        "id": "fde29a95"
      },
      "outputs": [],
      "source": [
        "import numpy as np\n",
        "import torch\n",
        "import torch.nn as nn\n",
        "import matplotlib.pyplot as plt\n",
        "import pandas as pd\n",
        "from torch.utils.data import Dataset,DataLoader,TensorDataset"
      ]
    },
    {
      "cell_type": "code",
      "execution_count": 2,
      "metadata": {
        "id": "65b2d02b"
      },
      "outputs": [],
      "source": [
        "test=pd.read_csv('/content/drive/MyDrive/Colab Notebooks/test.csv')"
      ]
    },
    {
      "cell_type": "code",
      "source": [
        ""
      ],
      "metadata": {
        "id": "IMw6Pm1aLlaU"
      },
      "execution_count": 2,
      "outputs": []
    },
    {
      "cell_type": "code",
      "execution_count": 3,
      "metadata": {
        "id": "c44de5c7"
      },
      "outputs": [],
      "source": [
        "# Xavier初始化权重\n",
        "\n",
        "def xavier(m):\n",
        "    if type(m)==nn.Linear:\n",
        "        nn.init.xavier_uniform_(m.weight)\n",
        "\n",
        "class MyNet(nn.Module):\n",
        "    def __init__(self,input_dim):\n",
        "        super().__init__()\n",
        "        self.f1=nn.Linear(input_dim,input_dim*8)\n",
        "        self.drop1=nn.Dropout(p=0.2)\n",
        "        self.s1=nn.ReLU()\n",
        "        \n",
        "        self.f2=nn.Linear(input_dim*8,input_dim*8)\n",
        "        self.drop2=nn.Dropout(p=0.35)\n",
        "        self.s2=nn.ReLU()\n",
        "        \n",
        "        self.f3=nn.Linear(input_dim*8,input_dim*8)\n",
        "        self.drop3=nn.Dropout(p=0.5)\n",
        "        self.s3=nn.ReLU()    \n",
        "        \n",
        "        self.f4=nn.Linear(input_dim*8,input_dim*8)\n",
        "        self.drop4=nn.Dropout(p=0.35)\n",
        "        self.s4=nn.ReLU()\n",
        "                    \n",
        "        self.f5=nn.Linear(input_dim*8,2)   \n",
        "        self.s5=nn.Softmax(dim=1)\n",
        "        \n",
        "    \n",
        "    def forward(self,x):\n",
        "        x=self.s1(self.drop1(self.f1(x)))\n",
        "        x=self.s2(self.drop2(self.f2(x)))\n",
        "        x=self.s3(self.drop3(self.f3(x)))\n",
        "        x=self.s4(self.drop4(self.f4(x)))\n",
        "        return self.s5(self.f5(x))\n",
        "        \n",
        "#     预测\n",
        "    def predict(self,x):\n",
        "        with torch.no_grad():\n",
        "            x=self.s1(self.f1(x))\n",
        "            x=self.s2(self.f2(x))\n",
        "            x=self.s3(self.f3(x))\n",
        "            x=self.s4(self.f4(x))\n",
        "            p=self.s5(self.f5(x))\n",
        "            return (p[:,0]<p[:,1])\n",
        "            \n",
        "    def compute(self,x):\n",
        "        with torch.no_grad():\n",
        "            x=self.s1(self.f1(x))\n",
        "            x=self.s2(self.f2(x))\n",
        "            x=self.s3(self.f3(x))\n",
        "            x=self.s4(self.f4(x))\n",
        "            p=self.s5(self.f5(x))\n",
        "            return p    \n",
        "#     准确率 \n",
        "    def acc(self,x,y):\n",
        "        with torch.no_grad():\n",
        "            return float(((self.predict(x)==y).sum()/len(y)))"
      ]
    },
    {
      "cell_type": "code",
      "execution_count": 4,
      "metadata": {
        "id": "347beaa9"
      },
      "outputs": [],
      "source": [
        "X_test_all=torch.FloatTensor(test.drop('label',axis=1).values)#.cuda('cuda:0')\n",
        "Y_test_all=       torch.LongTensor(test['label'].values)#.cuda('cuda:0')\n",
        "Y_true=Y_test_all#.to(torch.device('cpu'))"
      ]
    },
    {
      "cell_type": "code",
      "execution_count": 8,
      "metadata": {
        "id": "20633cbe"
      },
      "outputs": [],
      "source": [
        ""
      ]
    },
    {
      "cell_type": "code",
      "execution_count": 16,
      "metadata": {
        "id": "caf9bd3f",
        "colab": {
          "base_uri": "https://localhost:8080/"
        },
        "outputId": "ad8af021-5033-427f-c391-148cb7e3bfcb"
      },
      "outputs": [
        {
          "output_type": "stream",
          "name": "stdout",
          "text": [
            "1  ok\n",
            "2  ok\n",
            "3  ok\n",
            "4  ok\n",
            "5  ok\n",
            "6  ok\n",
            "7  ok\n",
            "8  ok\n",
            "9  ok\n",
            "10  ok\n",
            "11  ok\n",
            "12  ok\n",
            "13  ok\n",
            "14  ok\n",
            "15  ok\n",
            "16  ok\n",
            "17  ok\n",
            "18  ok\n",
            "19  ok\n",
            "20  ok\n",
            "21  ok\n",
            "22  ok\n",
            "23  ok\n",
            "24  ok\n",
            "25  ok\n",
            "26  ok\n",
            "27  ok\n",
            "28  ok\n",
            "29  ok\n",
            "30  ok\n",
            "31  ok\n",
            "32  ok\n",
            "33  ok\n",
            "34  ok\n",
            "35  ok\n",
            "36  ok\n",
            "37  ok\n",
            "38  ok\n",
            "39  ok\n",
            "40  ok\n",
            "41  ok\n",
            "42  ok\n",
            "43  ok\n",
            "44  ok\n",
            "45  ok\n",
            "46  ok\n",
            "47  ok\n",
            "48  ok\n",
            "49  ok\n",
            "50  ok\n"
          ]
        }
      ],
      "source": [
        "n_block=50\n",
        "nets=[]\n",
        "for i in range(1,n_block+1):\n",
        "    path='/content/drive/MyDrive/Colab Notebooks/RSP50/Params/Net_'+str(i)+'.params'\n",
        "    net=MyNet(X_test_all.shape[1])#.cuda(\"cuda:0\")\n",
        "    net.load_state_dict(torch.load(path,map_location='cpu'))\n",
        "    nets.append(net)\n",
        "    print(i,' ok')\n",
        "\n"
      ]
    },
    {
      "cell_type": "code",
      "execution_count": 15,
      "metadata": {
        "id": "14c3c73f"
      },
      "outputs": [],
      "source": [
        ""
      ]
    },
    {
      "cell_type": "code",
      "source": [
        ""
      ],
      "metadata": {
        "id": "-cmYuJtpNPlo"
      },
      "execution_count": 18,
      "outputs": []
    },
    {
      "cell_type": "code",
      "source": [
        ""
      ],
      "metadata": {
        "id": "mACaw1QqNQb2"
      },
      "execution_count": null,
      "outputs": []
    },
    {
      "cell_type": "markdown",
      "source": [
        "单独使用每个块上的参数"
      ],
      "metadata": {
        "id": "Tp7dLHqhNRIT"
      }
    },
    {
      "cell_type": "code",
      "execution_count": 6,
      "metadata": {
        "id": "93b52bc9",
        "colab": {
          "base_uri": "https://localhost:8080/"
        },
        "outputId": "7497c776-88cc-4e55-88e9-10b0055462ab"
      },
      "outputs": [
        {
          "output_type": "stream",
          "name": "stdout",
          "text": [
            "Acc of Net 1 :  0.7259275913238525\n",
            "Acc of Net 2 :  0.726759672164917\n",
            "Acc of Net 3 :  0.726834237575531\n",
            "Acc of Net 4 :  0.7252418398857117\n",
            "Acc of Net 5 :  0.7280139327049255\n",
            "Acc of Net 6 :  0.7277742624282837\n",
            "Acc of Net 7 :  0.7271996736526489\n",
            "Acc of Net 8 :  0.7251912355422974\n",
            "Acc of Net 9 :  0.726648211479187\n",
            "Acc of Net 10 :  0.7278891205787659\n",
            "Acc of Net 11 :  0.7268294095993042\n",
            "Acc of Net 12 :  0.728320300579071\n",
            "Acc of Net 13 :  0.727286696434021\n",
            "Acc of Net 14 :  0.7269336581230164\n",
            "Acc of Net 15 :  0.7260009050369263\n",
            "Acc of Net 16 :  0.7270981669425964\n",
            "Acc of Net 17 :  0.7267069816589355\n",
            "Acc of Net 18 :  0.7264275550842285\n",
            "Acc of Net 19 :  0.7281027436256409\n",
            "Acc of Net 20 :  0.7275557518005371\n",
            "Acc of Net 21 :  0.6861936450004578\n",
            "Acc of Net 22 :  0.7277936339378357\n",
            "Acc of Net 23 :  0.7279666662216187\n",
            "Acc of Net 24 :  0.7281372547149658\n",
            "Acc of Net 25 :  0.7267772555351257\n",
            "Acc of Net 26 :  0.7262115478515625\n",
            "Acc of Net 27 :  0.7257384657859802\n",
            "Acc of Net 28 :  0.7267157435417175\n",
            "Acc of Net 29 :  0.7261300086975098\n",
            "Acc of Net 30 :  0.7270424365997314\n",
            "Acc of Net 31 :  0.7278375625610352\n",
            "Acc of Net 32 :  0.7259642481803894\n",
            "Acc of Net 33 :  0.7259042263031006\n",
            "Acc of Net 34 :  0.7281933426856995\n",
            "Acc of Net 35 :  0.7271633148193359\n",
            "Acc of Net 36 :  0.7271685004234314\n",
            "Acc of Net 37 :  0.7259342670440674\n",
            "Acc of Net 38 :  0.7265448570251465\n",
            "Acc of Net 39 :  0.7279624342918396\n",
            "Acc of Net 40 :  0.7259015440940857\n",
            "Acc of Net 41 :  0.7271193861961365\n",
            "Acc of Net 42 :  0.7270978689193726\n",
            "Acc of Net 43 :  0.7259485125541687\n",
            "Acc of Net 44 :  0.727069079875946\n",
            "Acc of Net 45 :  0.7279830574989319\n",
            "Acc of Net 46 :  0.7258720993995667\n",
            "Acc of Net 47 :  0.7258251309394836\n",
            "Acc of Net 48 :  0.7272878885269165\n",
            "Acc of Net 49 :  0.7274324297904968\n",
            "Acc of Net 50 :  0.7257566452026367\n"
          ]
        }
      ],
      "source": [
        "avg_acc=0\n",
        "for i in range(n_block):\n",
        "  cur_acc=nets[i].acc(X_test_all,Y_test_all)\n",
        "  print('Acc of Net '+str(i+1),': ',cur_acc)\n",
        "  avg_acc+=cur_acc\n",
        "avg_acc/=n_block\n"
      ]
    },
    {
      "cell_type": "code",
      "source": [
        "print('Average acc of 50 blocks: ',avg_acc)"
      ],
      "metadata": {
        "id": "xnZkG1DXqvOp",
        "colab": {
          "base_uri": "https://localhost:8080/"
        },
        "outputId": "92190342-4a77-4f25-de14-8285c809e0ca"
      },
      "execution_count": 7,
      "outputs": [
        {
          "output_type": "stream",
          "name": "stdout",
          "text": [
            "Average acc of 50 blocks:  0.7260683000087738\n"
          ]
        }
      ]
    },
    {
      "cell_type": "markdown",
      "source": [
        "Average acc of 50 blocks:  0.7260683000087738"
      ],
      "metadata": {
        "id": "oEGHIUitzL3E"
      }
    },
    {
      "cell_type": "code",
      "source": [
        "# def Voting(ss_net,n_net,x,y):\n",
        "#     y_preds=[]\n",
        "#     for i in range(n_net):\n",
        "#         y_preds.append(ss_net[i].predict(X_test).to(torch.device('cpu')).numpy())\n",
        "#     y_preds=np.array(y_preds).sum(0)>n_net//2\n",
        "#     return y_preds\n"
      ],
      "metadata": {
        "id": "_6NSqeh4s4AX"
      },
      "execution_count": null,
      "outputs": []
    },
    {
      "cell_type": "code",
      "source": [
        "# test_iter=DataLoader(\n",
        "#     TensorDataset(X_test_all,Y_test_all),\n",
        "#     batch_size=2**18,\n",
        "#     shuffle=True\n",
        "# )"
      ],
      "metadata": {
        "id": "aWts2E2lsD5w"
      },
      "execution_count": null,
      "outputs": []
    },
    {
      "cell_type": "code",
      "source": [
        "# def Bagging(nets,n_block):\n",
        "#   res=0\n",
        "#   for i in range(n_block):\n",
        "#     with torch.no_grad():\n",
        "#       res+=(nets[i].compute(X_test_all)).to(torch.device('cpu'))\n",
        "#   return (res[:,0]<res[:,1])"
      ],
      "metadata": {
        "id": "2goghYWWttnh"
      },
      "execution_count": null,
      "outputs": []
    },
    {
      "cell_type": "code",
      "source": [
        "res=0\n",
        "accs=[]\n",
        "for i in range(n_block):\n",
        "  with torch.no_grad():\n",
        "    res+=(nets[i].compute(X_test_all))#.to(torch.device('cpu'))\n",
        "    pre=(res[:,0]<res[:,1])\n",
        "    tmp=float((pre==Y_true).sum()/len(Y_true))\n",
        "    print(str(i)+': ',tmp)\n",
        "    accs.append(tmp)"
      ],
      "metadata": {
        "colab": {
          "base_uri": "https://localhost:8080/"
        },
        "id": "AUYeBFUUN5kA",
        "outputId": "1d2e57b9-8956-4b85-8bd2-b4c4428f1fef"
      },
      "execution_count": 21,
      "outputs": [
        {
          "output_type": "stream",
          "name": "stdout",
          "text": [
            "0:  0.7259275913238525\n",
            "1:  0.7371548414230347\n",
            "2:  0.7404427528381348\n",
            "3:  0.7431433200836182\n",
            "4:  0.7448833584785461\n",
            "5:  0.7461912035942078\n",
            "6:  0.7469696998596191\n",
            "7:  0.7474424242973328\n",
            "8:  0.7480948567390442\n",
            "9:  0.7485224008560181\n",
            "10:  0.7489727139472961\n",
            "11:  0.7491499781608582\n",
            "12:  0.7495166659355164\n",
            "13:  0.7495915293693542\n",
            "14:  0.7498366832733154\n",
            "15:  0.750027596950531\n",
            "16:  0.7501711845397949\n",
            "17:  0.7502490878105164\n",
            "18:  0.7503994107246399\n",
            "19:  0.7505608797073364\n",
            "20:  0.7502018213272095\n",
            "21:  0.7502478957176208\n",
            "22:  0.7504348754882812\n",
            "23:  0.7505003213882446\n",
            "24:  0.7506118416786194\n",
            "25:  0.7505233287811279\n",
            "26:  0.7506121397018433\n",
            "27:  0.7507360577583313\n",
            "28:  0.7507757544517517\n",
            "29:  0.7508906126022339\n",
            "30:  0.7508636116981506\n",
            "31:  0.7509466409683228\n",
            "32:  0.750956654548645\n",
            "33:  0.7510581612586975\n",
            "34:  0.7510748505592346\n",
            "35:  0.7511624097824097\n",
            "36:  0.7511900067329407\n",
            "37:  0.7512669563293457\n",
            "38:  0.7512394189834595\n",
            "39:  0.7513393759727478\n",
            "40:  0.7513136267662048\n",
            "41:  0.7513354420661926\n",
            "42:  0.7513315081596375\n",
            "43:  0.7513318061828613\n",
            "44:  0.7513824105262756\n",
            "45:  0.7513809204101562\n",
            "46:  0.7514106035232544\n",
            "47:  0.7514448761940002\n",
            "48:  0.7514263391494751\n",
            "49:  0.7515166401863098\n"
          ]
        }
      ]
    },
    {
      "cell_type": "code",
      "source": [
        "%matplotlib inline\n",
        "plt.figure(figsize=(8,6))\n",
        "plt.plot(np.arange(n_block)+1,accs,label='Muti-Classifiers')\n",
        "plt.plot([1,n_block],[0.7260683000087738,0.7260683000087738],label='Average Accuracy of 50 Classifiers')\n",
        "plt.legend()\n",
        "plt.xlabel('The number of Classifiers')\n",
        "plt.title('Single Classifier vs ' +str(n_block) +'Muti-Classifiers')\n",
        "plt.savefig('/content/drive/MyDrive/Colab Notebooks/RSP50/RSP50.png')"
      ],
      "metadata": {
        "colab": {
          "base_uri": "https://localhost:8080/",
          "height": 404
        },
        "id": "W2bA1CVzPdTK",
        "outputId": "27e88dd1-6f42-41c0-e702-50f1d1cd50a9"
      },
      "execution_count": 22,
      "outputs": [
        {
          "output_type": "display_data",
          "data": {
            "image/png": "[encoded data removed]",
            "text/plain": [
              "<Figure size 576x432 with 1 Axes>"
            ]
          },
          "metadata": {
            "needs_background": "light"
          }
        }
      ]
    },
    {
      "cell_type": "code",
      "source": [
        ""
      ],
      "metadata": {
        "id": "yCo-r38dxpQi"
      },
      "execution_count": 19,
      "outputs": []
    },
    {
      "cell_type": "code",
      "source": [
        ""
      ],
      "metadata": {
        "id": "3wqAz9c2HmOX"
      },
      "execution_count": null,
      "outputs": []
    },
    {
      "cell_type": "code",
      "source": [
        ""
      ],
      "metadata": {
        "id": "vo6yX9WjHmUe"
      },
      "execution_count": null,
      "outputs": []
    },
    {
      "cell_type": "code",
      "source": [
        ""
      ],
      "metadata": {
        "id": "WqxiolDGHmWk"
      },
      "execution_count": null,
      "outputs": []
    },
    {
      "cell_type": "markdown",
      "source": [
        ""
      ],
      "metadata": {
        "id": "x94_RQZrSp-9"
      }
    },
    {
      "cell_type": "code",
      "source": [
        "# RSP 25"
      ],
      "metadata": {
        "colab": {
          "base_uri": "https://localhost:8080/",
          "height": 404
        },
        "id": "98nKYdbQ1Kbp",
        "outputId": "836b4946-3ab3-4d55-d103-f3d5afb29c37"
      },
      "execution_count": null,
      "outputs": [
        {
          "output_type": "display_data",
          "data": {
            "image/png": "[encoded data removed]",
            "text/plain": [
              "<Figure size 576x432 with 1 Axes>"
            ]
          },
          "metadata": {
            "needs_background": "light"
          }
        }
      ]
    },
    {
      "cell_type": "code",
      "source": [
        ""
      ],
      "metadata": {
        "id": "oyNMpU_g3RHZ"
      },
      "execution_count": null,
      "outputs": []
    },
    {
      "cell_type": "code",
      "source": [
        "# def Bagging(nets,n_block):\n",
        "#   with torch.no_grad():\n",
        "#     res=0\n",
        "#     for i in range(n_block):\n",
        "#         res+=(nets[i].compute(X_test_all))\n",
        "#     return res"
      ],
      "metadata": {
        "id": "3b8OSpXt3RKt"
      },
      "execution_count": null,
      "outputs": []
    }
  ]
}