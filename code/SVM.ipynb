{
 "cells": [
  {
   "cell_type": "code",
   "execution_count": 2,
   "id": "10adb37d",
   "metadata": {
    "scrolled": true
   },
   "outputs": [
    {
     "name": "stdout",
     "output_type": "stream",
     "text": [
      "       Unnamed: 0  capacity_bytes  failure  smart_5_raw  smart_187_raw  \\\n",
      "0             157    4.000790e+12        0          0.0            0.0   \n",
      "1           21511    4.000790e+12        0          0.0            0.0   \n",
      "2            1967    4.000790e+12        0          0.0            0.0   \n",
      "3            7488    4.000790e+12        1          0.0           16.0   \n",
      "4            9598    4.000790e+12        1       1856.0           32.0   \n",
      "...           ...             ...      ...          ...            ...   \n",
      "11031       24249    4.000790e+12        1          0.0            4.0   \n",
      "11032        2002    4.000790e+12        0          0.0            0.0   \n",
      "11033       23970    4.000790e+12        0          0.0            0.0   \n",
      "11034        4797    4.000790e+12        1          0.0            0.0   \n",
      "11035       22252    4.000790e+12        1        160.0           12.0   \n",
      "\n",
      "       smart_188_raw  smart_197_raw  smart_198_raw  smart_9_raw  \\\n",
      "0                0.0            0.0            0.0      26665.0   \n",
      "1                2.0            0.0            0.0      37085.0   \n",
      "2                0.0            0.0            0.0      31758.0   \n",
      "3                1.0           56.0           56.0      31713.0   \n",
      "4                0.0            8.0            8.0      34132.0   \n",
      "...              ...            ...            ...          ...   \n",
      "11031            0.0            0.0            0.0      16921.0   \n",
      "11032            0.0            0.0            0.0      35492.0   \n",
      "11033            0.0            0.0            0.0      28148.0   \n",
      "11034            0.0           40.0           40.0      39123.0   \n",
      "11035            0.0          128.0          128.0      39132.0   \n",
      "\n",
      "       smart_193_raw  smart_194_raw  smart_241_raw  smart_242_raw  \n",
      "0            34262.0           20.0   4.398957e+10   1.341200e+11  \n",
      "1           151921.0           24.0   2.643057e+10   2.748650e+11  \n",
      "2            40089.0           21.0   5.465423e+10   1.047500e+11  \n",
      "3            38454.0           16.0   5.761638e+10   1.059560e+11  \n",
      "4            55556.0           19.0   5.624616e+10   1.117940e+11  \n",
      "...              ...            ...            ...            ...  \n",
      "11031         2487.0           35.0   3.888814e+10   7.081230e+10  \n",
      "11032        18589.0           22.0   3.063053e+10   2.637790e+11  \n",
      "11033        85923.0           20.0   2.662399e+10   2.453300e+11  \n",
      "11034       198197.0           22.0   3.419042e+10   3.719780e+11  \n",
      "11035        94143.0           24.0   3.310466e+10   1.945440e+11  \n",
      "\n",
      "[11036 rows x 13 columns]\n"
     ]
    }
   ],
   "source": [
    "import pandas as pd\n",
    "import numpy  as np\n",
    "Path = \"C:\\\\Users\\\\86187\\\\Desktop\\\\\"\n",
    "path1=\"smart_dataset_sample.csv\"\n",
    "px_all =pd.read_csv(Path+path1)\n",
    "\n",
    "#px_all = px_all.dropna(how ='all',axis = 1)#剔除全部缺失的列\n",
    "px_all = px_all.fillna(px_all.mean()) #对于部分缺失的列使用均值填充缺失值\n",
    "px_all = px_all.drop(['serial_number'],axis=1)\n",
    "print(px_all)\n"
   ]
  },
  {
   "cell_type": "code",
   "execution_count": 3,
   "id": "705cedee",
   "metadata": {},
   "outputs": [
    {
     "name": "stdout",
     "output_type": "stream",
     "text": [
      "[[0.00493013 1.         0.         ... 0.14184397 0.6835003  0.28174458]\n",
      " [0.67549066 1.         0.         ... 0.17021277 0.41067242 0.57740624]\n",
      " [0.06176794 1.         0.         ... 0.14893617 0.84920553 0.22004731]\n",
      " ...\n",
      " [0.75270843 1.         0.         ... 0.14184397 0.41367768 0.51536235]\n",
      " [0.15063589 1.         0.         ... 0.15602837 0.53124328 0.78141057]\n",
      " [0.69875962 1.         0.00366905 ... 0.17021277 0.51437291 0.40867669]]\n"
     ]
    },
    {
     "data": {
      "text/plain": [
       "0.6381757777106615"
      ]
     },
     "execution_count": 3,
     "metadata": {},
     "output_type": "execute_result"
    }
   ],
   "source": [
    "from sklearn import svm\n",
    "from sklearn.model_selection import train_test_split\n",
    "from sklearn.preprocessing   import normalize\n",
    "m_px_all = np.array(px_all.values)\n",
    "train_target = m_px_all[:,2]\n",
    "train_data  = np.delete(m_px_all,2,1)#除了[2]列之外的所有列都是训练属性\n",
    "\n",
    "train_data = normalize(train_data,axis=0,norm='max')\n",
    "print(train_data)\n",
    "x_train,x_test, y_train, y_test = train_test_split(train_data,train_target,test_size=0.3, random_state=0)\n",
    "\n",
    "svc = svm.SVC(C=0.8,kernel = 'rbf',gamma=20, decision_function_shape='ovr')\n",
    "svc.fit(x_train,y_train)\n",
    "\n",
    "svc.score(x_test,y_test)"
   ]
  }
 ],
 "metadata": {
  "kernelspec": {
   "display_name": "Python 3",
   "language": "python",
   "name": "python3"
  },
  "language_info": {
   "codemirror_mode": {
    "name": "ipython",
    "version": 3
   },
   "file_extension": ".py",
   "mimetype": "text/x-python",
   "name": "python",
   "nbconvert_exporter": "python",
   "pygments_lexer": "ipython3",
   "version": "3.8.8"
  }
 },
 "nbformat": 4,
 "nbformat_minor": 5
}
