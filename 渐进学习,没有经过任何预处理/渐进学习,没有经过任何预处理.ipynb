{
 "cells": [
  {
   "cell_type": "code",
   "execution_count": 1,
   "metadata": {
    "id": "fde29a95"
   },
   "outputs": [],
   "source": [
    "import numpy as np\n",
    "import torch\n",
    "import torch.nn as nn\n",
    "import matplotlib.pyplot as plt\n",
    "import pandas as pd\n",
    "from torch.utils.data import Dataset,DataLoader,TensorDataset"
   ]
  },
  {
   "cell_type": "code",
   "execution_count": 2,
   "metadata": {
    "id": "65b2d02b"
   },
   "outputs": [],
   "source": [
    "test=pd.read_csv('/content/drive/MyDrive/Colab Notebooks/test.csv')"
   ]
  },
  {
   "cell_type": "code",
   "execution_count": 3,
   "metadata": {
    "id": "c44de5c7"
   },
   "outputs": [],
   "source": [
    "# Xavier初始化权重\n",
    "\n",
    "def xavier(m):\n",
    "    if type(m)==nn.Linear:\n",
    "        nn.init.xavier_uniform_(m.weight)\n",
    "\n",
    "class MyNet(nn.Module):\n",
    "    def __init__(self,input_dim):\n",
    "        super().__init__()\n",
    "        self.f1=nn.Linear(input_dim,input_dim*8)\n",
    "        self.drop1=nn.Dropout(p=0.2)\n",
    "        self.s1=nn.ReLU()\n",
    "        \n",
    "        self.f2=nn.Linear(input_dim*8,input_dim*8)\n",
    "        self.drop2=nn.Dropout(p=0.35)\n",
    "        self.s2=nn.ReLU()\n",
    "        \n",
    "        self.f3=nn.Linear(input_dim*8,input_dim*8)\n",
    "        self.drop3=nn.Dropout(p=0.5)\n",
    "        self.s3=nn.ReLU()    \n",
    "        \n",
    "        self.f4=nn.Linear(input_dim*8,input_dim*8)\n",
    "        self.drop4=nn.Dropout(p=0.35)\n",
    "        self.s4=nn.ReLU()\n",
    "                    \n",
    "        self.f5=nn.Linear(input_dim*8,2)   \n",
    "        self.s5=nn.Softmax(dim=1)\n",
    "        \n",
    "    \n",
    "    def forward(self,x):\n",
    "        x=self.s1(self.drop1(self.f1(x)))\n",
    "        x=self.s2(self.drop2(self.f2(x)))\n",
    "        x=self.s3(self.drop3(self.f3(x)))\n",
    "        x=self.s4(self.drop4(self.f4(x)))\n",
    "        return self.s5(self.f5(x))\n",
    "        \n",
    "#     预测\n",
    "    def predict(self,x):\n",
    "        with torch.no_grad():\n",
    "            x=self.s1(self.f1(x))\n",
    "            x=self.s2(self.f2(x))\n",
    "            x=self.s3(self.f3(x))\n",
    "            x=self.s4(self.f4(x))\n",
    "            p=self.s5(self.f5(x))\n",
    "            return (p[:,0]<p[:,1])\n",
    "            \n",
    "    def compute(self,x):\n",
    "        with torch.no_grad():\n",
    "            x=self.s1(self.f1(x))\n",
    "            x=self.s2(self.f2(x))\n",
    "            x=self.s3(self.f3(x))\n",
    "            x=self.s4(self.f4(x))\n",
    "            p=self.s5(self.f5(x))\n",
    "            return p    \n",
    "#     准确率 \n",
    "    def acc(self,x,y):\n",
    "        with torch.no_grad():\n",
    "            return float(((self.predict(x)==y).sum()/len(y)))"
   ]
  },
  {
   "cell_type": "code",
   "execution_count": 4,
   "metadata": {
    "id": "347beaa9"
   },
   "outputs": [],
   "source": [
    "X_test_all=torch.FloatTensor(test.drop('label',axis=1).values).cuda('cuda:0')\n",
    "Y_test_all=          torch.LongTensor(test['label'].values).cuda('cuda:0')\n",
    "Y_true=Y_test_all.to(torch.device('cpu'))"
   ]
  },
  {
   "cell_type": "code",
   "execution_count": null,
   "metadata": {
    "id": "20633cbe"
   },
   "outputs": [],
   "source": []
  },
  {
   "cell_type": "code",
   "execution_count": 5,
   "metadata": {
    "id": "caf9bd3f"
   },
   "outputs": [],
   "source": [
    "n_block=25\n",
    "nets=[]\n",
    "for i in range(1,n_block*2+1,2):\n",
    "    path='/content/drive/MyDrive/Colab Notebooks/RSP25/Net_'+str(i)+'+'+str(i+1)+'.params'\n",
    "    net=MyNet(X_test_all.shape[1]).cuda(\"cuda:0\")\n",
    "    net.load_state_dict(torch.load(path))\n",
    "    nets.append(net)"
   ]
  },
  {
   "cell_type": "code",
   "execution_count": 5,
   "metadata": {
    "id": "14c3c73f"
   },
   "outputs": [],
   "source": []
  },
  {
   "cell_type": "code",
   "execution_count": 6,
   "metadata": {
    "id": "93b52bc9"
   },
   "outputs": [],
   "source": [
    "# avg_acc=0\n",
    "# for i in range(n_block):\n",
    "#   cur_acc=nets[i].acc(X_test_all,Y_test_all)\n",
    "#   print('Acc of Net '+str(i+1),': ',cur_acc)\n",
    "#   avg_acc+=cur_acc\n",
    "# avg_acc/=n_block\n"
   ]
  },
  {
   "cell_type": "code",
   "execution_count": 7,
   "metadata": {
    "id": "xnZkG1DXqvOp"
   },
   "outputs": [],
   "source": [
    "# print('Average acc of 25 blocks: ',avg_acc)"
   ]
  },
  {
   "cell_type": "markdown",
   "metadata": {
    "id": "oEGHIUitzL3E"
   },
   "source": [
    "**avg_acc=0.7434457349777222**"
   ]
  },
  {
   "cell_type": "code",
   "execution_count": 8,
   "metadata": {
    "id": "_6NSqeh4s4AX"
   },
   "outputs": [],
   "source": [
    "# def Voting(ss_net,n_net,x,y):\n",
    "#     y_preds=[]\n",
    "#     for i in range(n_net):\n",
    "#         y_preds.append(ss_net[i].predict(X_test).to(torch.device('cpu')).numpy())\n",
    "#     y_preds=np.array(y_preds).sum(0)>n_net//2\n",
    "#     return y_preds\n"
   ]
  },
  {
   "cell_type": "code",
   "execution_count": 9,
   "metadata": {
    "id": "aWts2E2lsD5w"
   },
   "outputs": [],
   "source": [
    "# test_iter=DataLoader(\n",
    "#     TensorDataset(X_test_all,Y_test_all),\n",
    "#     batch_size=2**18,\n",
    "#     shuffle=True\n",
    "# )"
   ]
  },
  {
   "cell_type": "code",
   "execution_count": 16,
   "metadata": {
    "id": "2goghYWWttnh"
   },
   "outputs": [],
   "source": [
    "def Bagging(nets,n_block):\n",
    "  res=0\n",
    "  for i in range(n_block):\n",
    "    with torch.no_grad():\n",
    "      res+=(nets[i].compute(X_test_all)).to(torch.device('cpu'))\n",
    "  return (res[:,0]<res[:,1])"
   ]
  },
  {
   "cell_type": "code",
   "execution_count": 20,
   "metadata": {
    "colab": {
     "base_uri": "https://localhost:8080/"
    },
    "id": "yCo-r38dxpQi",
    "outputId": "a5e0a744-77d1-4070-a715-d32f080e0d64"
   },
   "outputs": [
    {
     "name": "stdout",
     "output_type": "stream",
     "text": [
      "1:  0.7409651279449463\n",
      "2:  0.7493612170219421\n",
      "3:  0.7519512176513672\n",
      "4:  0.7540375590324402\n",
      "5:  0.7549072504043579\n",
      "6:  0.7556509375572205\n",
      "7:  0.7560645341873169\n",
      "8:  0.7564557790756226\n",
      "9:  0.7567800283432007\n",
      "10:  0.7570178508758545\n",
      "11:  0.7572027444839478\n",
      "12:  0.7574403285980225\n",
      "13:  0.757530927658081\n",
      "14:  0.7577248215675354\n",
      "15:  0.7579084634780884\n",
      "16:  0.7579060792922974\n",
      "17:  0.7579911947250366\n",
      "18:  0.7580924034118652\n",
      "19:  0.7581145167350769\n",
      "20:  0.758173942565918\n",
      "21:  0.7581893801689148\n",
      "22:  0.7582100033760071\n",
      "23:  0.7582736611366272\n",
      "24:  0.7582966685295105\n",
      "25:  0.7583533525466919\n"
     ]
    }
   ],
   "source": [
    "accs=[]\n",
    "for i in range(1,n_block+1):\n",
    "  tmp=float((Bagging(nets,i)==Y_true).sum()/len(Y_true))\n",
    "  print(str(i)+': ',tmp)\n",
    "  accs.append(tmp)"
   ]
  },
  {
   "cell_type": "code",
   "execution_count": null,
   "metadata": {
    "id": "3wqAz9c2HmOX"
   },
   "outputs": [],
   "source": []
  },
  {
   "cell_type": "code",
   "execution_count": null,
   "metadata": {
    "id": "vo6yX9WjHmUe"
   },
   "outputs": [],
   "source": []
  },
  {
   "cell_type": "code",
   "execution_count": 26,
   "metadata": {
    "id": "WqxiolDGHmWk"
   },
   "outputs": [],
   "source": []
  },
  {
   "cell_type": "code",
   "execution_count": null,
   "metadata": {},
   "outputs": [],
   "source": []
  },
  {
   "cell_type": "code",
   "execution_count": null,
   "metadata": {},
   "outputs": [],
   "source": []
  },
  {
   "cell_type": "code",
   "execution_count": 30,
   "metadata": {
    "colab": {
     "base_uri": "https://localhost:8080/",
     "height": 422
    },
    "id": "98nKYdbQ1Kbp",
    "outputId": "6b8489c8-3bb9-4549-81cc-e46bd77304cf"
   },
   "outputs": [
    {
     "data": {
      "text/plain": [
       "Text(0.5, 1.0, 'Single Classifier vs 25Muti-Classifiers')"
      ]
     },
     "execution_count": 30,
     "metadata": {},
     "output_type": "execute_result"
    },
    {
     "data": {
      "image/png": "[encoded data removed]",
      "text/plain": [
       "<Figure size 576x432 with 1 Axes>"
      ]
     },
     "metadata": {
      "needs_background": "light"
     },
     "output_type": "display_data"
    }
   ],
   "source": [
    "%matplotlib inline\n",
    "plt.figure(figsize=(8,6))\n",
    "plt.plot(np.arange(n_block)+1,accs,label='Muti-Classifiers')\n",
    "plt.plot([1,n_block],[0.7434457349777222,0.7434457349777222],label='Average Accuracy of 25 Classifier')\n",
    "plt.legend()\n",
    "plt.xlabel('The number of Classifiers')\n",
    "plt.title('Single Classifier vs ' +str(n_block) +'Muti-Classifiers')"
   ]
  },
  {
   "cell_type": "markdown",
   "metadata": {
    "id": "oyNMpU_g3RHZ"
   },
   "source": [
    "### 没有经过任何预处理的25RSP渐进学习\n",
    "可以看到正确率一直在上升"
   ]
  },
  {
   "cell_type": "code",
   "execution_count": null,
   "metadata": {
    "id": "3b8OSpXt3RKt"
   },
   "outputs": [],
   "source": []
  }
 ],
 "metadata": {
  "accelerator": "GPU",
  "colab": {
   "collapsed_sections": [],
   "name": "渐进学习",
   "provenance": []
  },
  "kernelspec": {
   "display_name": "Python 3",
   "language": "python",
   "name": "python3"
  },
  "language_info": {
   "codemirror_mode": {
    "name": "ipython",
    "version": 3
   },
   "file_extension": ".py",
   "mimetype": "text/x-python",
   "name": "python",
   "nbconvert_exporter": "python",
   "pygments_lexer": "ipython3",
   "version": "3.8.8"
  }
 },
 "nbformat": 4,
 "nbformat_minor": 1
}
