{
 "cells": [
  {
   "cell_type": "code",
   "execution_count": 1,
   "id": "2758f76b",
   "metadata": {},
   "outputs": [],
   "source": [
    "## Indians_xgboost.py\n",
    "from numpy import loadtxt\n",
    "from xgboost import XGBClassifier\n",
    "from sklearn.model_selection import train_test_split\n",
    "from sklearn.metrics import accuracy_score\n",
    "import pandas as pd\n",
    "import matplotlib.pyplot as plt\n",
    "import numpy as np\n",
    "import warnings\n",
    "warnings.filterwarnings('ignore')\n",
    "from sklearn.model_selection import train_test_split\n",
    "from sklearn.metrics import roc_auc_score\n",
    "import xgboost as xgb\n",
    "import pickle"
   ]
  },
  {
   "cell_type": "code",
   "execution_count": 2,
   "id": "dcb27bda",
   "metadata": {},
   "outputs": [],
   "source": [
    "# 准备测试集\n",
    "test=pd.read_csv('test.csv')\n",
    "X_test=test.drop('label',axis=1).values\n",
    "y_test=test['label'].values"
   ]
  },
  {
   "cell_type": "markdown",
   "id": "cd842670",
   "metadata": {},
   "source": [
    "### 我们一共有50个RSP，12，34，56，这样两两合一，一共就25个RSP\n"
   ]
  },
  {
   "cell_type": "code",
   "execution_count": 18,
   "id": "070f7426",
   "metadata": {
    "scrolled": true
   },
   "outputs": [
    {
     "name": "stdout",
     "output_type": "stream",
     "text": [
      "------------------------------------------------------------------------------\n",
      "Params/RSP25 XGBoost/xlf_1+2.json\n",
      "[0]\tvalidation_0-error:0.33802\n",
      "[100]\tvalidation_0-error:0.26336\n",
      "[200]\tvalidation_0-error:0.25977\n",
      "[300]\tvalidation_0-error:0.25866\n",
      "[400]\tvalidation_0-error:0.25836\n",
      "[500]\tvalidation_0-error:0.25794\n",
      "[600]\tvalidation_0-error:0.25758\n",
      "[700]\tvalidation_0-error:0.25730\n",
      "[765]\tvalidation_0-error:0.25728\n",
      "Accuracy: 74.28%\n",
      "------------------------------------------------------------------------------\n",
      "------------------------------------------------------------------------------\n",
      "Params/RSP25 XGBoost/xlf_3+4.json\n",
      "[0]\tvalidation_0-error:0.33744\n",
      "[100]\tvalidation_0-error:0.26324\n",
      "[200]\tvalidation_0-error:0.25980\n",
      "[300]\tvalidation_0-error:0.25894\n",
      "[400]\tvalidation_0-error:0.25838\n",
      "[500]\tvalidation_0-error:0.25802\n",
      "[600]\tvalidation_0-error:0.25747\n",
      "[636]\tvalidation_0-error:0.25746\n",
      "Accuracy: 74.26%\n",
      "------------------------------------------------------------------------------\n",
      "------------------------------------------------------------------------------\n",
      "Params/RSP25 XGBoost/xlf_5+6.json\n",
      "[0]\tvalidation_0-error:0.33675\n",
      "[100]\tvalidation_0-error:0.26298\n",
      "[200]\tvalidation_0-error:0.25920\n",
      "[300]\tvalidation_0-error:0.25848\n",
      "[400]\tvalidation_0-error:0.25801\n",
      "[500]\tvalidation_0-error:0.25759\n",
      "[512]\tvalidation_0-error:0.25762\n",
      "Accuracy: 74.24%\n",
      "------------------------------------------------------------------------------\n",
      "------------------------------------------------------------------------------\n",
      "Params/RSP25 XGBoost/xlf_7+8.json\n",
      "[0]\tvalidation_0-error:0.33676\n",
      "[100]\tvalidation_0-error:0.26320\n",
      "[200]\tvalidation_0-error:0.25921\n",
      "[300]\tvalidation_0-error:0.25830\n",
      "[380]\tvalidation_0-error:0.25798\n",
      "Accuracy: 74.21%\n",
      "------------------------------------------------------------------------------\n",
      "------------------------------------------------------------------------------\n",
      "Params/RSP25 XGBoost/xlf_9+10.json\n",
      "[0]\tvalidation_0-error:0.33511\n",
      "[100]\tvalidation_0-error:0.26310\n",
      "[200]\tvalidation_0-error:0.25942\n",
      "[300]\tvalidation_0-error:0.25850\n",
      "[400]\tvalidation_0-error:0.25808\n",
      "[500]\tvalidation_0-error:0.25778\n",
      "[558]\tvalidation_0-error:0.25759\n",
      "Accuracy: 74.24%\n",
      "------------------------------------------------------------------------------\n",
      "------------------------------------------------------------------------------\n",
      "Params/RSP25 XGBoost/xlf_11+12.json\n",
      "[0]\tvalidation_0-error:0.33609\n",
      "[100]\tvalidation_0-error:0.26339\n",
      "[200]\tvalidation_0-error:0.25933\n",
      "[300]\tvalidation_0-error:0.25832\n",
      "[338]\tvalidation_0-error:0.25820\n",
      "Accuracy: 74.18%\n",
      "------------------------------------------------------------------------------\n",
      "------------------------------------------------------------------------------\n",
      "Params/RSP25 XGBoost/xlf_13+14.json\n",
      "[0]\tvalidation_0-error:0.33531\n",
      "[100]\tvalidation_0-error:0.26325\n",
      "[200]\tvalidation_0-error:0.25934\n",
      "[300]\tvalidation_0-error:0.25839\n",
      "[400]\tvalidation_0-error:0.25805\n",
      "[500]\tvalidation_0-error:0.25765\n",
      "[583]\tvalidation_0-error:0.25750\n",
      "Accuracy: 74.25%\n",
      "------------------------------------------------------------------------------\n",
      "------------------------------------------------------------------------------\n",
      "Params/RSP25 XGBoost/xlf_15+16.json\n",
      "[0]\tvalidation_0-error:0.33784\n",
      "[100]\tvalidation_0-error:0.26319\n",
      "[200]\tvalidation_0-error:0.25951\n",
      "[300]\tvalidation_0-error:0.25862\n",
      "[400]\tvalidation_0-error:0.25806\n",
      "[500]\tvalidation_0-error:0.25777\n",
      "[520]\tvalidation_0-error:0.25775\n",
      "Accuracy: 74.23%\n",
      "------------------------------------------------------------------------------\n",
      "------------------------------------------------------------------------------\n",
      "Params/RSP25 XGBoost/xlf_17+18.json\n",
      "[0]\tvalidation_0-error:0.33600\n",
      "[100]\tvalidation_0-error:0.26316\n",
      "[200]\tvalidation_0-error:0.25936\n",
      "[300]\tvalidation_0-error:0.25832\n",
      "[400]\tvalidation_0-error:0.25790\n",
      "[452]\tvalidation_0-error:0.25770\n",
      "Accuracy: 74.23%\n",
      "------------------------------------------------------------------------------\n",
      "------------------------------------------------------------------------------\n",
      "Params/RSP25 XGBoost/xlf_19+20.json\n",
      "[0]\tvalidation_0-error:0.33719\n",
      "[100]\tvalidation_0-error:0.26318\n",
      "[200]\tvalidation_0-error:0.25981\n",
      "[300]\tvalidation_0-error:0.25869\n",
      "[400]\tvalidation_0-error:0.25820\n",
      "[500]\tvalidation_0-error:0.25780\n",
      "[600]\tvalidation_0-error:0.25722\n",
      "[658]\tvalidation_0-error:0.25711\n",
      "Accuracy: 74.29%\n",
      "------------------------------------------------------------------------------\n",
      "------------------------------------------------------------------------------\n",
      "Params/RSP25 XGBoost/xlf_21+22.json\n",
      "[0]\tvalidation_0-error:0.33687\n",
      "[100]\tvalidation_0-error:0.26284\n",
      "[200]\tvalidation_0-error:0.25941\n",
      "[300]\tvalidation_0-error:0.25808\n",
      "[400]\tvalidation_0-error:0.25772\n",
      "[500]\tvalidation_0-error:0.25731\n",
      "[600]\tvalidation_0-error:0.25717\n",
      "[640]\tvalidation_0-error:0.25717\n",
      "Accuracy: 74.29%\n",
      "------------------------------------------------------------------------------\n",
      "------------------------------------------------------------------------------\n",
      "Params/RSP25 XGBoost/xlf_23+24.json\n",
      "[0]\tvalidation_0-error:0.33693\n",
      "[100]\tvalidation_0-error:0.26343\n",
      "[200]\tvalidation_0-error:0.25960\n",
      "[300]\tvalidation_0-error:0.25869\n",
      "[400]\tvalidation_0-error:0.25816\n",
      "[500]\tvalidation_0-error:0.25776\n",
      "[600]\tvalidation_0-error:0.25755\n",
      "[700]\tvalidation_0-error:0.25738\n",
      "[800]\tvalidation_0-error:0.25715\n",
      "[868]\tvalidation_0-error:0.25717\n",
      "Accuracy: 74.29%\n",
      "------------------------------------------------------------------------------\n",
      "------------------------------------------------------------------------------\n",
      "Params/RSP25 XGBoost/xlf_25+26.json\n",
      "[0]\tvalidation_0-error:0.33668\n",
      "[100]\tvalidation_0-error:0.26333\n",
      "[200]\tvalidation_0-error:0.25958\n",
      "[300]\tvalidation_0-error:0.25860\n",
      "[400]\tvalidation_0-error:0.25801\n",
      "[500]\tvalidation_0-error:0.25772\n",
      "[566]\tvalidation_0-error:0.25764\n",
      "Accuracy: 74.24%\n",
      "------------------------------------------------------------------------------\n",
      "------------------------------------------------------------------------------\n",
      "Params/RSP25 XGBoost/xlf_27+28.json\n",
      "[0]\tvalidation_0-error:0.33759\n",
      "[100]\tvalidation_0-error:0.26278\n",
      "[200]\tvalidation_0-error:0.25895\n",
      "[300]\tvalidation_0-error:0.25817\n",
      "[400]\tvalidation_0-error:0.25762\n",
      "[478]\tvalidation_0-error:0.25744\n",
      "Accuracy: 74.26%\n",
      "------------------------------------------------------------------------------\n",
      "------------------------------------------------------------------------------\n",
      "Params/RSP25 XGBoost/xlf_29+30.json\n",
      "[0]\tvalidation_0-error:0.33580\n",
      "[100]\tvalidation_0-error:0.26339\n",
      "[200]\tvalidation_0-error:0.25969\n",
      "[300]\tvalidation_0-error:0.25864\n",
      "[400]\tvalidation_0-error:0.25809\n",
      "[500]\tvalidation_0-error:0.25770\n",
      "[514]\tvalidation_0-error:0.25768\n",
      "Accuracy: 74.23%\n",
      "------------------------------------------------------------------------------\n",
      "------------------------------------------------------------------------------\n",
      "Params/RSP25 XGBoost/xlf_31+32.json\n",
      "[0]\tvalidation_0-error:0.33625\n",
      "[100]\tvalidation_0-error:0.26344\n",
      "[200]\tvalidation_0-error:0.25984\n",
      "[300]\tvalidation_0-error:0.25883\n",
      "[400]\tvalidation_0-error:0.25831\n",
      "[500]\tvalidation_0-error:0.25789\n",
      "[583]\tvalidation_0-error:0.25771\n",
      "Accuracy: 74.23%\n",
      "------------------------------------------------------------------------------\n",
      "------------------------------------------------------------------------------\n",
      "Params/RSP25 XGBoost/xlf_33+34.json\n",
      "[0]\tvalidation_0-error:0.33679\n",
      "[100]\tvalidation_0-error:0.26318\n",
      "[200]\tvalidation_0-error:0.25976\n",
      "[300]\tvalidation_0-error:0.25883\n",
      "[400]\tvalidation_0-error:0.25824\n",
      "[500]\tvalidation_0-error:0.25783\n",
      "[525]\tvalidation_0-error:0.25788\n",
      "Accuracy: 74.22%\n",
      "------------------------------------------------------------------------------\n",
      "------------------------------------------------------------------------------\n",
      "Params/RSP25 XGBoost/xlf_35+36.json\n",
      "[0]\tvalidation_0-error:0.33634\n",
      "[100]\tvalidation_0-error:0.26328\n",
      "[200]\tvalidation_0-error:0.25958\n",
      "[300]\tvalidation_0-error:0.25844\n",
      "[400]\tvalidation_0-error:0.25797\n",
      "[500]\tvalidation_0-error:0.25760\n",
      "[600]\tvalidation_0-error:0.25745\n",
      "[698]\tvalidation_0-error:0.25717\n",
      "Accuracy: 74.29%\n",
      "------------------------------------------------------------------------------\n",
      "------------------------------------------------------------------------------\n",
      "Params/RSP25 XGBoost/xlf_37+38.json\n",
      "[0]\tvalidation_0-error:0.33780\n",
      "[100]\tvalidation_0-error:0.26281\n",
      "[200]\tvalidation_0-error:0.25919\n"
     ]
    },
    {
     "name": "stdout",
     "output_type": "stream",
     "text": [
      "[300]\tvalidation_0-error:0.25830\n",
      "[400]\tvalidation_0-error:0.25812\n",
      "[500]\tvalidation_0-error:0.25757\n",
      "[600]\tvalidation_0-error:0.25718\n",
      "[673]\tvalidation_0-error:0.25704\n",
      "Accuracy: 74.30%\n",
      "------------------------------------------------------------------------------\n",
      "------------------------------------------------------------------------------\n",
      "Params/RSP25 XGBoost/xlf_39+40.json\n",
      "[0]\tvalidation_0-error:0.33811\n",
      "[100]\tvalidation_0-error:0.26328\n",
      "[200]\tvalidation_0-error:0.25960\n",
      "[300]\tvalidation_0-error:0.25855\n",
      "[400]\tvalidation_0-error:0.25817\n",
      "[425]\tvalidation_0-error:0.25815\n",
      "Accuracy: 74.19%\n",
      "------------------------------------------------------------------------------\n",
      "------------------------------------------------------------------------------\n",
      "Params/RSP25 XGBoost/xlf_41+42.json\n",
      "[0]\tvalidation_0-error:0.33562\n",
      "[100]\tvalidation_0-error:0.26293\n",
      "[200]\tvalidation_0-error:0.25898\n",
      "[300]\tvalidation_0-error:0.25801\n",
      "[385]\tvalidation_0-error:0.25774\n",
      "Accuracy: 74.23%\n",
      "------------------------------------------------------------------------------\n",
      "------------------------------------------------------------------------------\n",
      "Params/RSP25 XGBoost/xlf_43+44.json\n",
      "[0]\tvalidation_0-error:0.33646\n",
      "[100]\tvalidation_0-error:0.26346\n",
      "[200]\tvalidation_0-error:0.25973\n",
      "[300]\tvalidation_0-error:0.25858\n",
      "[355]\tvalidation_0-error:0.25848\n",
      "Accuracy: 74.16%\n",
      "------------------------------------------------------------------------------\n",
      "------------------------------------------------------------------------------\n",
      "Params/RSP25 XGBoost/xlf_45+46.json\n",
      "[0]\tvalidation_0-error:0.33522\n",
      "[100]\tvalidation_0-error:0.26275\n",
      "[200]\tvalidation_0-error:0.25917\n",
      "[300]\tvalidation_0-error:0.25793\n",
      "[400]\tvalidation_0-error:0.25725\n"
     ]
    },
    {
     "name": "stderr",
     "output_type": "stream",
     "text": [
      "\n",
      "KeyboardInterrupt\n",
      "\n"
     ]
    }
   ],
   "source": [
    "# 在25个RSP上分别训练XGBOOST\n",
    "for i in range(1,50,2):\n",
    "    b=[i,i+1]\n",
    "    # 准备训练集\n",
    "    Block=np.vstack((\n",
    "        pd.read_csv('Blocks/Block '+str(b[0])+'.csv').values,\n",
    "        pd.read_csv('Blocks/Block '+str(b[1])+'.csv').values,\n",
    "    ))\n",
    "    \n",
    "    print('------------------------------------------------------------------------------')\n",
    "    path='Params/RSP25 XGBoost/xlf_'+str(b[0])+'+'+str(b[1])+'.json'\n",
    "    print(path)\n",
    "    X_train=Block[:,1:]\n",
    "    y_train=Block[:,0]\n",
    "\n",
    "    # 模型\n",
    "    xlf = XGBClassifier(\n",
    "                max_depth=10,\n",
    "                learning_rate=0.05,\n",
    "                n_estimators=6000,\n",
    "                objective='binary:logistic',\n",
    "                nthread=-1,\n",
    "                gamma=0,\n",
    "                min_child_weight=1,\n",
    "                max_delta_step=0,\n",
    "                colsample_bytree=0.8,\n",
    "                colsample_bylevel=1,\n",
    "                reg_alpha=0,\n",
    "                reg_lambda=1,\n",
    "                scale_pos_weight=1,\n",
    "    )\n",
    "\n",
    "    xlf.fit(X_train, y_train, eval_metric='error', verbose=100, eval_set=[(X_test, y_test)], early_stopping_rounds=30)\n",
    "    # 这个verbose主要是调节系统输出的，如果设置成10,便是每迭代10次就有输出。\n",
    "    # 注意我们这里eval_metric=‘error’便是准确率。这里面并没有accuracy命名的函数，网上大多例子为auc，我这里特意放了个error。\n",
    "    xlf.save_model(path)\n",
    "\n",
    "    y_pred = xlf.predict(X_test)\n",
    "    predictions = [round(value) for value in y_pred]\n",
    "    accuracy = accuracy_score(y_test, predictions)\n",
    "    print(\"Accuracy: %.2f%%\" % (accuracy * 100.0))\n",
    "\n",
    "    \n",
    "    \n",
    "    print('------------------------------------------------------------------------------')"
   ]
  },
  {
   "cell_type": "markdown",
   "id": "296b2698",
   "metadata": {},
   "source": [
    "#### 这里训练到45+46就停止的原因是， 我在colab同时跑，两个相遇问题，得到了25个分类器的参数后就停止了"
   ]
  },
  {
   "cell_type": "markdown",
   "id": "9ef56c2c",
   "metadata": {},
   "source": [
    "#### 看看单个块上的FEATURE IMPORTANCE   ,这个图片不清楚，会另外上传"
   ]
  },
  {
   "cell_type": "code",
   "execution_count": 38,
   "id": "6ea53f1f",
   "metadata": {},
   "outputs": [
    {
     "name": "stdout",
     "output_type": "stream",
     "text": [
      "The AUROC = 0.741232\n"
     ]
    },
    {
     "data": {
      "image/png": "[encoded data removed]",
      "text/plain": [
       "<Figure size 432x288 with 1 Axes>"
      ]
     },
     "metadata": {
      "needs_background": "light"
     },
     "output_type": "display_data"
    }
   ],
   "source": [
    "%matplotlib inline\n",
    "\n",
    "from xgboost import plot_importance\n",
    "from sklearn.metrics import roc_auc_score\n",
    "\n",
    "# model.fit(X, Y)\n",
    "plot_importance(xlf,max_num_features=28,grid=False)\n",
    "\n",
    "roc=roc_auc_score(y_test,y_pred)\n",
    "\n",
    "print(\"The AUROC = %f\"%roc)\n",
    "plt.show()\n"
   ]
  },
  {
   "cell_type": "code",
   "execution_count": null,
   "id": "16967651",
   "metadata": {},
   "outputs": [],
   "source": []
  },
  {
   "cell_type": "markdown",
   "id": "7ad5599c",
   "metadata": {},
   "source": [
    "## 接下来是渐进学习"
   ]
  },
  {
   "cell_type": "code",
   "execution_count": 12,
   "id": "4adc91a8",
   "metadata": {},
   "outputs": [
    {
     "name": "stdout",
     "output_type": "stream",
     "text": [
      "1  ok\n",
      "3  ok\n",
      "5  ok\n",
      "7  ok\n",
      "9  ok\n",
      "11  ok\n",
      "13  ok\n",
      "15  ok\n",
      "17  ok\n",
      "19  ok\n",
      "21  ok\n",
      "23  ok\n",
      "25  ok\n",
      "27  ok\n",
      "29  ok\n",
      "31  ok\n",
      "33  ok\n",
      "35  ok\n",
      "37  ok\n",
      "39  ok\n",
      "41  ok\n",
      "43  ok\n",
      "45  ok\n",
      "47  ok\n",
      "49  ok\n"
     ]
    }
   ],
   "source": [
    "n_block=25\n",
    "nets=[]\n",
    "for i in range(1,49+1,2):\n",
    "    b=[i,i+1]\n",
    "    path='Params/RSP25 XGBoost/xlf_'+str(b[0])+'+'+str(b[1])+'.json'\n",
    "    net=XGBClassifier()\n",
    "    net.load_model(path)\n",
    "    nets.append(net)\n",
    "    print(i,' ok')"
   ]
  },
  {
   "cell_type": "code",
   "execution_count": null,
   "id": "0395cdcc",
   "metadata": {},
   "outputs": [],
   "source": []
  },
  {
   "cell_type": "code",
   "execution_count": 25,
   "id": "57bae60f",
   "metadata": {},
   "outputs": [],
   "source": [
    "y_preds=[]\n",
    "y_preds.append(0)\n",
    "for i,net in enumerate(nets):\n",
    "    y_preds.append(y_preds[i]+net.predict_proba(X_test))\n"
   ]
  },
  {
   "cell_type": "code",
   "execution_count": null,
   "id": "783c5daf",
   "metadata": {},
   "outputs": [],
   "source": []
  },
  {
   "cell_type": "code",
   "execution_count": 54,
   "id": "5c5d92b7",
   "metadata": {},
   "outputs": [],
   "source": [
    "preds=[]\n",
    "for i in range(1,26):\n",
    "    p=(y_preds[i][:,0]<y_preds[i][:,1])+0\n",
    "    preds.append(p)"
   ]
  },
  {
   "cell_type": "code",
   "execution_count": 56,
   "id": "cb329d30",
   "metadata": {},
   "outputs": [],
   "source": [
    "from sklearn import metrics\n"
   ]
  },
  {
   "cell_type": "code",
   "execution_count": 72,
   "id": "3fc21da6",
   "metadata": {
    "scrolled": false
   },
   "outputs": [
    {
     "name": "stdout",
     "output_type": "stream",
     "text": [
      "           AUC                ACC                  Recall                F1-Score                Precesion\n",
      "1      0.7413141792289297      0.7427851515151516      0.7658837421409722      0.759376574219832      0.7529790482786847\n",
      "2      0.7444808751386621      0.7458763636363637      0.7677896368049817      0.7620299170886768      0.7563559692004544\n",
      "3      0.7456425721737024      0.7469975757575757      0.7682751167238969      0.7629451868879195      0.757688700606073\n",
      "4      0.745849609128782      0.7471945454545454      0.7683140008634566      0.7630951671025616      0.7579467536899822\n",
      "5      0.746160861804387      0.747520303030303      0.7688675280266013      0.7634582697749315      0.7581245919238415\n",
      "6      0.7461364719816117      0.7474851515151515      0.7686633862939126      0.7633851664213817      0.7581789406238578\n",
      "7      0.7462533857862336      0.7476145454545454      0.7689887550499347      0.7635541484597145      0.7581958178452809\n",
      "8      0.7463438795682059      0.7476878787878788      0.7687926188753906      0.7635605599374817      0.7583992337333331\n",
      "9      0.7464675572267885      0.7478157575757576      0.7689864677476076      0.7636975721450897      0.758480930983352\n",
      "10      0.7466785392858913      0.74801      0.7689178486777963      0.7638204998649497      0.7587902891780832\n",
      "11      0.7467076046582495      0.7480545454545454      0.7692054769454221      0.7639198471223276      0.7587063624339744\n",
      "12      0.7469358618685562      0.7482887878787878      0.7695337048293529      0.7641644509240818      0.7588696034646095\n",
      "13      0.7470099835949491      0.7483633333333334      0.769614904061963      0.7642368383471274      0.7589334148341207\n",
      "14      0.7469869674277423      0.7483430303030303      0.7696372052596517      0.7642275222523285      0.7588933564057934\n",
      "15      0.7470055052766524      0.7483469696969697      0.7694119059804378      0.7641775854622156      0.7590140020375216\n",
      "16      0.7470472568447644      0.7483866666666666      0.7694193397130007      0.7642077547081833      0.7590662950169719\n",
      "17      0.7470355358662925      0.7483721212121213      0.7693604416780794      0.764183543182221      0.759075848007226\n",
      "18      0.7470709591167783      0.7484154545454546      0.7695279865735354      0.7642538121428045      0.7590514416313859\n",
      "19      0.7471190923397028      0.7484648484848485      0.7695971774689284      0.7643053836888442      0.7590858662798272\n",
      "20      0.7470869738207666      0.7484424242424242      0.7697269818759882      0.7643197057388977      0.7589878710751277\n",
      "21      0.7470334525955679      0.7483909090909091      0.7697069679806265      0.7642781342567909      0.7589253445901031\n",
      "22      0.746964441259302      0.7483136363636363      0.769499967120029      0.7641743411665997      0.7589219246994067\n",
      "23      0.7470287366680134      0.748379696969697      0.7695937465154379      0.764243602101614      0.7589673315400361\n",
      "24      0.7470019578478188      0.7483539393939393      0.7695840254805479      0.7642228825594687      0.7589359174114557\n",
      "25      0.7470516864844461      0.7484057575757576      0.7696686556666485      0.7642797987979779      0.7589658777318283\n"
     ]
    }
   ],
   "source": [
    "ss_roc_auc_score=[]\n",
    "ss_accuracy_score=[]\n",
    "ss_recall_score=[]\n",
    "ss_f1_score=[]\n",
    "ss_precision_score=[]\n",
    "ss_confusion_matrix=[]\n",
    "print('           AUC                ACC                  Recall                F1-Score                Precesion')\n",
    "for i in range(25):\n",
    "    \n",
    "    a=metrics.roc_auc_score(y_test,preds[i])\n",
    "    b=metrics.accuracy_score(y_test,preds[i])\n",
    "    c=metrics.recall_score(y_test,preds[i])\n",
    "    d=metrics.f1_score(y_test,preds[i])\n",
    "    e=metrics.precision_score(y_test,preds[i])\n",
    "    m=metrics.confusion_matrix(y_test,preds[i])\n",
    "    \n",
    "    ss_roc_auc_score.append(a)\n",
    "    ss_accuracy_score.append(b)\n",
    "    ss_recall_score.append(c)\n",
    "    ss_f1_score.append(d)\n",
    "    ss_precision_score.append(e)\n",
    "    ss_confusion_matrix.append(m)\n",
    "    \n",
    "    \n",
    "    print(i+1,'    ',a,'    ',b,'    ',c,'    ',d,'    ',e)\n",
    "    \n",
    "    \n",
    "#     print ('AUC: %.4f' % a)   \n",
    "#     print ('ACC: %.4f' % b)\n",
    "#     print ('Recall: %.4f' % c)\n",
    "#     print ('F1-score: %.4f' %d)\n",
    "#     print ('Precesion: %.4f' %e)\n",
    "    \n",
    "    \n",
    "\n"
   ]
  },
  {
   "cell_type": "markdown",
   "id": "f0902f12",
   "metadata": {},
   "source": [
    "            AUC                ACC               Recall            F1-Score            Precesion\n",
    "1       0.7413141792289297      0.7427851515151516      0.7658837421409722      0.759376574219832       0.7529790482786847\n",
    "2       0.7444808751386621      0.7458763636363637      0.7677896368049817      0.7620299170886768      0.7563559692004544\n",
    "3       0.7456425721737024      0.7469975757575757      0.7682751167238969      0.7629451868879195      0.757688700606073\n",
    "4       0.745849609128782       0.7471945454545454      0.7683140008634566      0.7630951671025616      0.7579467536899822\n",
    "5       0.746160861804387       0.747520303030303       0.7688675280266013      0.7634582697749315      0.7581245919238415\n",
    "6       0.7461364719816117      0.7474851515151515      0.7686633862939126      0.7633851664213817      0.7581789406238578\n",
    "7       0.7462533857862336      0.7476145454545454      0.7689887550499347      0.7635541484597145      0.7581958178452809\n",
    "8       0.7463438795682059      0.7476878787878788      0.7687926188753906      0.7635605599374817      0.7583992337333331\n",
    "9       0.7464675572267885      0.7478157575757576      0.7689864677476076      0.7636975721450897      0.758480930983352\n",
    "10      0.7466785392858913      0.74801             0.7689178486777963      0.7638204998649497      0.7587902891780832\n",
    "11      0.7467076046582495      0.7480545454545454      0.7692054769454221      0.7639198471223276      0.7587063624339744\n",
    "12      0.7469358618685562      0.7482887878787878      0.7695337048293529      0.7641644509240818      0.7588696034646095\n",
    "13      0.7470099835949491      0.7483633333333334      0.769614904061963       0.7642368383471274      0.7589334148341207\n",
    "14      0.7469869674277423      0.7483430303030303      0.7696372052596517      0.7642275222523285      0.7588933564057934\n",
    "15      0.7470055052766524      0.7483469696969697      0.7694119059804378      0.7641775854622156      0.7590140020375216\n",
    "16      0.7470472568447644      0.7483866666666666      0.7694193397130007      0.7642077547081833      0.7590662950169719\n",
    "17      0.7470355358662925      0.7483721212121213      0.7693604416780794      0.764183543182221       0.759075848007226\n",
    "18      0.7470709591167783      0.7484154545454546      0.7695279865735354      0.7642538121428045      0.7590514416313859\n",
    "19      0.7471190923397028      0.7484648484848485      0.7695971774689284      0.7643053836888442      0.7590858662798272\n",
    "20      0.7470869738207666      0.7484424242424242      0.7697269818759882      0.7643197057388977      0.7589878710751277\n",
    "21      0.7470334525955679      0.7483909090909091      0.7697069679806265      0.7642781342567909      0.7589253445901031\n",
    "22      0.746964441259302       0.7483136363636363      0.769499967120029       0.7641743411665997      0.7589219246994067\n",
    "23      0.7470287366680134      0.748379696969697       0.7695937465154379      0.764243602101614       0.7589673315400361\n",
    "24      0.7470019578478188      0.7483539393939393      0.7695840254805479      0.7642228825594687      0.7589359174114557\n",
    "25      0.7470516864844461      0.7484057575757576      0.7696686556666485      0.7642797987979779      0.7589658777318283"
   ]
  },
  {
   "cell_type": "code",
   "execution_count": null,
   "id": "e19abda9",
   "metadata": {},
   "outputs": [],
   "source": []
  },
  {
   "cell_type": "code",
   "execution_count": 73,
   "id": "b3e2f02a",
   "metadata": {},
   "outputs": [],
   "source": [
    "import matplotlib.pyplot as plt"
   ]
  },
  {
   "cell_type": "code",
   "execution_count": 88,
   "id": "cbd380df",
   "metadata": {},
   "outputs": [
    {
     "data": {
      "text/plain": [
       "Text(0.5, 0, 'The number of RSP')"
      ]
     },
     "execution_count": 88,
     "metadata": {},
     "output_type": "execute_result"
    },
    {
     "data": {
      "image/png": "[encoded data removed]",
      "text/plain": [
       "<Figure size 576x432 with 1 Axes>"
      ]
     },
     "metadata": {
      "needs_background": "light"
     },
     "output_type": "display_data"
    }
   ],
   "source": [
    "plt.figure(figsize=(8,6))\n",
    "plt.plot(ss_roc_auc_score)\n",
    "plt.title('AUC')\n",
    "plt.xlabel('The number of RSP')"
   ]
  },
  {
   "cell_type": "code",
   "execution_count": 91,
   "id": "2d9fa810",
   "metadata": {},
   "outputs": [
    {
     "data": {
      "text/plain": [
       "Text(0.5, 0, 'The number of RSP')"
      ]
     },
     "execution_count": 91,
     "metadata": {},
     "output_type": "execute_result"
    },
    {
     "data": {
      "image/png": "[encoded data removed]",
      "text/plain": [
       "<Figure size 576x432 with 1 Axes>"
      ]
     },
     "metadata": {
      "needs_background": "light"
     },
     "output_type": "display_data"
    }
   ],
   "source": [
    "plt.figure(figsize=(8,6))\n",
    "plt.plot(ss_recall_score)\n",
    "plt.title('Recall')\n",
    "plt.xlabel('The number of RSP')"
   ]
  },
  {
   "cell_type": "code",
   "execution_count": 92,
   "id": "b855b859",
   "metadata": {},
   "outputs": [
    {
     "data": {
      "text/plain": [
       "Text(0.5, 0, 'The number of RSP')"
      ]
     },
     "execution_count": 92,
     "metadata": {},
     "output_type": "execute_result"
    },
    {
     "data": {
      "image/png": "[encoded data removed]",
      "text/plain": [
       "<Figure size 576x432 with 1 Axes>"
      ]
     },
     "metadata": {
      "needs_background": "light"
     },
     "output_type": "display_data"
    }
   ],
   "source": [
    "plt.figure(figsize=(8,6))\n",
    "plt.plot(ss_f1_score)\n",
    "plt.title(' F1-Score ')\n",
    "plt.xlabel('The number of RSP')"
   ]
  },
  {
   "cell_type": "code",
   "execution_count": 93,
   "id": "9e4fbd56",
   "metadata": {},
   "outputs": [
    {
     "data": {
      "text/plain": [
       "Text(0.5, 0, 'The number of RSP')"
      ]
     },
     "execution_count": 93,
     "metadata": {},
     "output_type": "execute_result"
    },
    {
     "data": {
      "image/png": "[encoded data removed]",
      "text/plain": [
       "<Figure size 576x432 with 1 Axes>"
      ]
     },
     "metadata": {
      "needs_background": "light"
     },
     "output_type": "display_data"
    }
   ],
   "source": [
    "plt.figure(figsize=(8,6))\n",
    "plt.plot(ss_precision_score)\n",
    "plt.title('Precesion')\n",
    "plt.xlabel('The number of RSP')"
   ]
  },
  {
   "cell_type": "code",
   "execution_count": null,
   "id": "94c29f22",
   "metadata": {},
   "outputs": [],
   "source": []
  },
  {
   "cell_type": "code",
   "execution_count": null,
   "id": "8ef67c8d",
   "metadata": {},
   "outputs": [],
   "source": []
  },
  {
   "cell_type": "code",
   "execution_count": 95,
   "id": "bbc19fec",
   "metadata": {},
   "outputs": [
    {
     "data": {
      "text/plain": [
       "array([[1123754,  427461],\n",
       "       [ 402800, 1345985]], dtype=int64)"
      ]
     },
     "execution_count": 95,
     "metadata": {},
     "output_type": "execute_result"
    }
   ],
   "source": [
    "ss_confusion_matrix[-1]"
   ]
  },
  {
   "cell_type": "code",
   "execution_count": 110,
   "id": "70dc56ac",
   "metadata": {},
   "outputs": [
    {
     "data": {
      "image/png": "[encoded data removed]",
      "text/plain": [
       "<Figure size 288x288 with 2 Axes>"
      ]
     },
     "metadata": {
      "needs_background": "light"
     },
     "output_type": "display_data"
    }
   ],
   "source": [
    "cm=ss_confusion_matrix[-1]\n",
    "plt.matshow(cm,cmap=plt.cm.Greens)\n",
    "plt.colorbar()\n",
    "plt.title('Confusion Matrix\\n')\n",
    "for x in range(len(cm)):\n",
    "    for y in range(len(cm)):    \n",
    "        plt.annotate(cm[x,y],xy=(x,y),\n",
    "        horizontalalignment='center',\n",
    "        verticalalignment='center' \n",
    "                    )\n",
    "plt.show()"
   ]
  },
  {
   "cell_type": "code",
   "execution_count": null,
   "id": "ad2e211f",
   "metadata": {},
   "outputs": [],
   "source": []
  }
 ],
 "metadata": {
  "kernelspec": {
   "display_name": "Python 3",
   "language": "python",
   "name": "python3"
  },
  "language_info": {
   "codemirror_mode": {
    "name": "ipython",
    "version": 3
   },
   "file_extension": ".py",
   "mimetype": "text/x-python",
   "name": "python",
   "nbconvert_exporter": "python",
   "pygments_lexer": "ipython3",
   "version": "3.8.8"
  }
 },
 "nbformat": 4,
 "nbformat_minor": 5
}
