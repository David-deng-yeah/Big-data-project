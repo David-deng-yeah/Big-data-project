{
 "cells": [
  {
   "cell_type": "code",
   "execution_count": 1,
   "id": "048716f6",
   "metadata": {},
   "outputs": [],
   "source": [
    "import pandas as pd\n",
    "import numpy as np\n",
    "import warnings\n",
    "import matplotlib.pyplot as plt\n",
    "import seaborn as sns\n",
    "from sklearn.tree import DecisionTreeClassifier\n",
    "import torch\n",
    "import torch.nn.functional as F\n",
    "from torch import nn\n",
    "from torch.utils.data import DataLoader,TensorDataset\n",
    "warnings.filterwarnings('ignore')"
   ]
  },
  {
   "cell_type": "code",
   "execution_count": 2,
   "id": "678727ab",
   "metadata": {},
   "outputs": [],
   "source": [
    "# Block1=pd.read_csv('/content/drive/MyDrive/Colab Notebooks/Blocks/Block 1.csv')\n",
    "# Block2=pd.read_csv('/content/drive/MyDrive/Colab Notebooks/Blocks/Block 2.csv')\n",
    "\n",
    "Block=np.vstack((\n",
    "    pd.read_csv('Blocks/Block 31.csv').drop(['22','27','23'],axis=1).values,\n",
    "    pd.read_csv('Blocks/Block 32.csv').drop(['22','27','23'],axis=1).values,\n",
    "))\n",
    "\n",
    "test=pd.read_csv('test.csv').drop(['22','27','23'],axis=1)"
   ]
  },
  {
   "cell_type": "code",
   "execution_count": null,
   "id": "e1ca262f",
   "metadata": {},
   "outputs": [],
   "source": []
  },
  {
   "cell_type": "code",
   "execution_count": 3,
   "id": "f20c60ec",
   "metadata": {},
   "outputs": [],
   "source": [
    "X=torch.FloatTensor(Block[:,1:]).cuda('cuda:0')\n",
    "Y=  torch.LongTensor(Block[:,0]).cuda('cuda:0')\n",
    "\n",
    "X_test_all=torch.FloatTensor(test.drop('label',axis=1).values).cuda('cuda:0')\n",
    "Y_test_all=             torch.LongTensor(test['label'].values).cuda('cuda:0')"
   ]
  },
  {
   "cell_type": "code",
   "execution_count": 13,
   "id": "9aede0e8",
   "metadata": {},
   "outputs": [],
   "source": [
    "# Xavier初始化权重\n",
    "\n",
    "def xavier(m):\n",
    "    if type(m)==nn.Linear:\n",
    "        nn.init.xavier_uniform_(m.weight)\n",
    "\n",
    "class MyNet(nn.Module):\n",
    "    def __init__(self,input_dim):\n",
    "        super().__init__()\n",
    "        self.f1=nn.Linear(input_dim,input_dim*5)\n",
    "        self.drop1=nn.Dropout(p=0.2)\n",
    "        self.s1=nn.ReLU()\n",
    "        \n",
    "        self.f2=nn.Linear(input_dim*5,input_dim*5)\n",
    "        self.drop2=nn.Dropout(p=0.3)\n",
    "        self.s2=nn.ReLU()\n",
    "        \n",
    "        self.f3=nn.Linear(input_dim*5,input_dim*5)\n",
    "        self.drop3=nn.Dropout(p=0.3)\n",
    "        self.s3=nn.ReLU()    \n",
    "        \n",
    "        self.f4=nn.Linear(input_dim*5,input_dim*5)\n",
    "        self.drop4=nn.Dropout(p=0.3)\n",
    "        self.s4=nn.ReLU()\n",
    "                    \n",
    "        self.f5=nn.Linear(input_dim*5,2)   \n",
    "        self.s5=nn.Softmax(dim=1)\n",
    "        \n",
    "    \n",
    "    def forward(self,x):\n",
    "        x=self.s1(self.drop1(self.f1(x)))\n",
    "        x=self.s2(self.drop2(self.f2(x)))\n",
    "        x=self.s3(self.drop3(self.f3(x)))\n",
    "        x=self.s4(self.drop4(self.f4(x)))\n",
    "        return self.s5(self.f5(x))\n",
    "        \n",
    "#     预测\n",
    "    def predict(self,x):\n",
    "        with torch.no_grad():\n",
    "            x=self.s1(self.f1(x))\n",
    "            x=self.s2(self.f2(x))\n",
    "            x=self.s3(self.f3(x))\n",
    "            x=self.s4(self.f4(x))\n",
    "            p=self.s5(self.f5(x))\n",
    "            return (p[:,0]<p[:,1])\n",
    "    \n",
    "#     准确率 \n",
    "    def acc(self,x,y):\n",
    "        with torch.no_grad():\n",
    "            return float(((self.predict(x)==y).sum()/len(y)))"
   ]
  },
  {
   "cell_type": "code",
   "execution_count": 14,
   "id": "27cb7ac8",
   "metadata": {},
   "outputs": [
    {
     "data": {
      "text/plain": [
       "<All keys matched successfully>"
      ]
     },
     "execution_count": 14,
     "metadata": {},
     "output_type": "execute_result"
    }
   ],
   "source": [
    "net=MyNet(X.shape[1]).cuda(\"cuda:0\")\n",
    "net.apply(xavier);\n",
    "\n",
    "net.load_state_dict(torch.load('Params/NN15555去0.6相关_22+23+27/Net 3200.params'))"
   ]
  },
  {
   "cell_type": "code",
   "execution_count": 6,
   "id": "0518ac52",
   "metadata": {},
   "outputs": [],
   "source": [
    "# 用于绘制曲线\n",
    "losses=[]\n",
    "train_acc=[]\n",
    "test_acc=[]\n",
    "\n",
    "# 用于随机抽测试集\n",
    "idx=list(range(len(test)))\n",
    "n_train=len(X)"
   ]
  },
  {
   "cell_type": "code",
   "execution_count": 19,
   "id": "989dba82",
   "metadata": {},
   "outputs": [
    {
     "name": "stdout",
     "output_type": "stream",
     "text": [
      "0.0%\t10.0%\t20.0%\t30.0%\t40.0%\t50.0%\t60.0%\t70.0%\t80.0%\t90.0%\t100%\n"
     ]
    }
   ],
   "source": [
    "optimizer=torch.optim.Adam(net.parameters(), lr=0.0025, betas=(0.9, 0.999), eps=1e-08, weight_decay=0.00001, amsgrad=False)\n",
    "criterion=torch.nn.CrossEntropyLoss()\n",
    "epochs=5000\n",
    "\n",
    "\n",
    "for i in range(epochs):\n",
    "    \n",
    "    y_pred=net.forward(X)\n",
    "    loss=criterion(y_pred,Y)\n",
    "    \n",
    "\n",
    "    if(i%100)==0:\n",
    "        losses.append(float(loss))\n",
    "        train_acc.append( net.acc(X,Y) )\n",
    "        \n",
    "        np.random.shuffle(idx)\n",
    "\n",
    "        X_test=X_test_all[idx[n_train:n_train*2]].cuda('cuda:0')\n",
    "        Y_test=Y_test_all[idx[n_train:n_train*2]].cuda('cuda:0')\n",
    "        \n",
    "        test_acc.append(net.acc(X_test,Y_test))\n",
    "        \n",
    "    if(i%(int(epochs*0.1))==0):\n",
    "        print(str((i/epochs)*100)+'%',end='\\t')\n",
    "        \n",
    "    optimizer.zero_grad()\n",
    "    loss.backward()\n",
    "    optimizer.step()\n",
    "print('100%')\n",
    "torch.save(net.state_dict(),'Params/NN15555去0.6相关_22+23+27/Net '+str(len(train_acc)*100)+'.params')\n"
   ]
  },
  {
   "cell_type": "code",
   "execution_count": 21,
   "id": "d9fbe7e6",
   "metadata": {},
   "outputs": [
    {
     "name": "stdout",
     "output_type": "stream",
     "text": [
      "epoch: 10200\n",
      "Train acc:  0.7771331071853638\n",
      "Test acc:   0.7328019738197327\n"
     ]
    },
    {
     "data": {
      "image/png": "[encoded data removed]",
      "text/plain": [
       "<Figure size 1152x432 with 2 Axes>"
      ]
     },
     "metadata": {
      "needs_background": "light"
     },
     "output_type": "display_data"
    }
   ],
   "source": [
    "tr_acc=net.acc(X,Y)\n",
    "te_acc=net.acc(X_test,Y_test)\n",
    "\n",
    "%matplotlib inline\n",
    "fig,ax=plt.subplots(1,2,figsize=(16,6))\n",
    "\n",
    "ax[0].set_xlabel('x100 epochs')\n",
    "ax[0].set_title('Loss')\n",
    "ax[0].plot(   losses,label='Train loss')\n",
    "ax[1].plot(train_acc,label='Train acc = '+str(tr_acc))\n",
    "ax[1].plot( test_acc,label='Test acc = '+str(te_acc))\n",
    "ax[1].set_xlabel('x100 epochs')\n",
    "ax[1].set_title('Accuracy')\n",
    "plt.legend()\n",
    "print('epoch: '+str(len(train_acc*100)))\n",
    "print('Train acc: ',net.acc(X,Y))\n",
    "print('Test acc:  ',net.acc(X_test,Y_test))\n",
    "plt.savefig('Params/NN15555去0.6相关_22+23+27/Net'+str(len(train_acc)*100)+'.png')\n"
   ]
  },
  {
   "cell_type": "code",
   "execution_count": null,
   "id": "65f71210",
   "metadata": {},
   "outputs": [],
   "source": []
  },
  {
   "cell_type": "code",
   "execution_count": null,
   "id": "3bd21f3d",
   "metadata": {},
   "outputs": [],
   "source": []
  },
  {
   "cell_type": "code",
   "execution_count": null,
   "id": "17b20936",
   "metadata": {},
   "outputs": [],
   "source": []
  }
 ],
 "metadata": {
  "kernelspec": {
   "display_name": "Python 3",
   "language": "python",
   "name": "python3"
  },
  "language_info": {
   "codemirror_mode": {
    "name": "ipython",
    "version": 3
   },
   "file_extension": ".py",
   "mimetype": "text/x-python",
   "name": "python",
   "nbconvert_exporter": "python",
   "pygments_lexer": "ipython3",
   "version": "3.8.8"
  }
 },
 "nbformat": 4,
 "nbformat_minor": 5
}
