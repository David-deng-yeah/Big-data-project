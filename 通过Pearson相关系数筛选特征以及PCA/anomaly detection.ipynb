{
 "cells": [
  {
   "cell_type": "code",
   "execution_count": 1,
   "id": "95bf0dd9",
   "metadata": {},
   "outputs": [],
   "source": [
    "import pandas as pd\n",
    "import numpy as np\n",
    "import warnings\n",
    "import matplotlib.pyplot as plt\n",
    "import seaborn as sns\n",
    "from sklearn.tree import DecisionTreeClassifier\n",
    "import torch\n",
    "import torch.nn.functional as F\n",
    "from torch import nn\n",
    "from torch.utils.data import DataLoader,TensorDataset\n",
    "warnings.filterwarnings('ignore')"
   ]
  },
  {
   "cell_type": "code",
   "execution_count": 2,
   "id": "dd8f994a",
   "metadata": {},
   "outputs": [],
   "source": [
    "test=pd.read_csv('test.csv')"
   ]
  },
  {
   "cell_type": "code",
   "execution_count": 3,
   "id": "f5ef7414",
   "metadata": {},
   "outputs": [],
   "source": [
    "X=pd.read_csv('rsp 32+42 after anomaly detection_X.csv').drop('Unnamed: 0',axis=1)\n",
    "Y=pd.read_csv('rsp 32+42 after anomaly detection_Y.csv').drop('Unnamed: 0',axis=1)"
   ]
  },
  {
   "cell_type": "code",
   "execution_count": 4,
   "id": "d2686453",
   "metadata": {},
   "outputs": [],
   "source": [
    "X=torch.FloatTensor(X.values).cuda('cuda:0')\n",
    "Y=torch.LongTensor(Y.values).cuda('cuda:0')\n"
   ]
  },
  {
   "cell_type": "code",
   "execution_count": 5,
   "id": "56c5bc40",
   "metadata": {},
   "outputs": [],
   "source": [
    "X_test_all=torch.FloatTensor((test.drop('label',axis=1).values)).cuda('cuda:0')\n",
    "Y_test_all=             torch.LongTensor(test['label'].values).cuda('cuda:0')"
   ]
  },
  {
   "cell_type": "code",
   "execution_count": 33,
   "id": "358b7352",
   "metadata": {},
   "outputs": [],
   "source": [
    "Y=Y.reshape(-1)"
   ]
  },
  {
   "cell_type": "code",
   "execution_count": 34,
   "id": "4c6557b4",
   "metadata": {},
   "outputs": [],
   "source": [
    "# Xavier初始化权重\n",
    "\n",
    "def xavier(m):\n",
    "    if type(m)==nn.Linear:\n",
    "        nn.init.xavier_uniform_(m.weight)\n",
    "\n",
    "class MyNet(nn.Module):\n",
    "    def __init__(self,input_dim):\n",
    "        super().__init__()\n",
    "        self.f1=nn.Linear(input_dim,input_dim*2)\n",
    "        self.drop1=nn.Dropout(p=0.2)\n",
    "        self.s1=nn.ReLU()\n",
    "        \n",
    "        self.f2=nn.Linear(input_dim*2,input_dim*3)\n",
    "        self.drop2=nn.Dropout(p=0.35)\n",
    "        self.s2=nn.ReLU()\n",
    "        \n",
    "        self.f3=nn.Linear(input_dim*3,input_dim*3)\n",
    "        self.drop3=nn.Dropout(p=0.5)\n",
    "        self.s3=nn.ReLU()    \n",
    "        \n",
    "        self.f4=nn.Linear(input_dim*3,input_dim*2)\n",
    "        self.drop4=nn.Dropout(p=0.35)\n",
    "        self.s4=nn.ReLU()\n",
    "        \n",
    "        self.f5=nn.Linear(input_dim*2,input_dim)\n",
    "        self.drop5=nn.Dropout(p=0.2)\n",
    "        self.s5=nn.ReLU()\n",
    "        \n",
    "        self.f6=nn.Linear(input_dim,2)   \n",
    "        self.s6=nn.Softmax(dim=1)\n",
    "        \n",
    "    \n",
    "    def forward(self,x):\n",
    "        x=self.s1(self.drop1(self.f1(x)))\n",
    "        x=self.s2(self.drop2(self.f2(x)))\n",
    "        x=self.s3(self.drop3(self.f3(x)))\n",
    "        x=self.s4(self.drop4(self.f4(x)))\n",
    "        x=self.s5(self.drop5(self.f5(x)))\n",
    "        return self.s6(self.f6(x))\n",
    "        \n",
    "#     预测\n",
    "    def predict(self,x):\n",
    "        with torch.no_grad():\n",
    "            x=self.s1(self.f1(x))\n",
    "            x=self.s2(self.f2(x))\n",
    "            x=self.s3(self.f3(x))\n",
    "            x=self.s4(self.f4(x))\n",
    "            x=self.s5(self.f5(x))\n",
    "            p=self.s6(self.f6(x))\n",
    "            return (p[:,0]<p[:,1])\n",
    "    \n",
    "#     准确率 \n",
    "    def acc(self,x,y):\n",
    "        with torch.no_grad():\n",
    "            return float(((self.predict(x)==y).sum()/len(y)))"
   ]
  },
  {
   "cell_type": "code",
   "execution_count": 41,
   "id": "5e7acee5",
   "metadata": {},
   "outputs": [],
   "source": [
    "net=MyNet(X.shape[1]).cuda(\"cuda:0\")\n",
    "net.apply(xavier);"
   ]
  },
  {
   "cell_type": "code",
   "execution_count": 42,
   "id": "c565a893",
   "metadata": {},
   "outputs": [],
   "source": [
    "# 用于绘制曲线\n",
    "losses=[]\n",
    "train_acc=[]\n",
    "test_acc=[]\n",
    "\n",
    "# 用于随机抽测试集\n",
    "idx=list(range(len(test)))\n",
    "\n",
    "n_train=len(X)"
   ]
  },
  {
   "cell_type": "code",
   "execution_count": 49,
   "id": "dd017720",
   "metadata": {},
   "outputs": [
    {
     "name": "stdout",
     "output_type": "stream",
     "text": [
      "0.0%\t10.0%\t20.0%\t30.0%\t40.0%\t50.0%\t60.0%\t70.0%\t80.0%\t90.0%\t100%\n"
     ]
    }
   ],
   "source": [
    "optimizer=torch.optim.Adam(net.parameters(), lr=0.015, betas=(0.9, 0.999), eps=1e-08, weight_decay=0.0001, amsgrad=False)\n",
    "criterion=torch.nn.CrossEntropyLoss()\n",
    "epochs=5000\n",
    "\n",
    "\n",
    "for i in range(epochs):\n",
    "    \n",
    "    y_pred=net.forward(X)\n",
    "    loss=criterion(y_pred,Y)\n",
    "    \n",
    "\n",
    "    if(i%100)==0:\n",
    "        losses.append(float(loss))\n",
    "        train_acc.append( net.acc(X,Y) )\n",
    "        \n",
    "        np.random.shuffle(idx)\n",
    "        \n",
    "        X_test=X_test_all[idx[n_train:n_train*2]].cuda('cuda:0')\n",
    "        Y_test=Y_test_all[idx[n_train:n_train*2]].cuda('cuda:0')\n",
    "        \n",
    "        test_acc.append(net.acc(X_test,Y_test))\n",
    "        \n",
    "    if(i%(int(epochs*0.1))==0):\n",
    "        print(str((i/epochs)*100)+'%',end='\\t')\n",
    "        \n",
    "    optimizer.zero_grad()\n",
    "    loss.backward()\n",
    "    optimizer.step()\n",
    "print('100%')\n",
    "torch.save(net.state_dict(),'Params/anomaly/Net_'+str(len(train_acc)*100)+'.params')\n"
   ]
  },
  {
   "cell_type": "code",
   "execution_count": 50,
   "id": "15f406d7",
   "metadata": {},
   "outputs": [
    {
     "name": "stdout",
     "output_type": "stream",
     "text": [
      "epoch: 11100\n",
      "Train acc:  0.7400059700012207\n",
      "Test acc:   0.5005368590354919\n"
     ]
    },
    {
     "data": {
      "image/png": "[encoded data removed]",
      "text/plain": [
       "<Figure size 1152x432 with 2 Axes>"
      ]
     },
     "metadata": {
      "needs_background": "light"
     },
     "output_type": "display_data"
    }
   ],
   "source": [
    "%matplotlib inline\n",
    "fig,ax=plt.subplots(1,2,figsize=(16,6))\n",
    "\n",
    "ax[0].set_xlabel('x100 epochs')\n",
    "ax[0].set_title('Loss')\n",
    "ax[0].plot(   losses,label='Train loss')\n",
    "ax[1].plot(train_acc,label='Train acc')\n",
    "ax[1].plot( test_acc,label='Test acc')\n",
    "ax[1].set_xlabel('x100 epochs')\n",
    "ax[1].set_title('Accuracy')\n",
    "\n",
    "plt.legend()\n",
    "print('epoch: '+str(len(train_acc*100)))\n",
    "print('Train acc: ',net.acc(X,Y))\n",
    "print('Test acc:  ',net.acc(X_test,Y_test))"
   ]
  },
  {
   "cell_type": "code",
   "execution_count": null,
   "id": "40414296",
   "metadata": {},
   "outputs": [],
   "source": []
  },
  {
   "cell_type": "code",
   "execution_count": null,
   "id": "37f82da4",
   "metadata": {},
   "outputs": [],
   "source": []
  },
  {
   "cell_type": "code",
   "execution_count": null,
   "id": "e95bed21",
   "metadata": {},
   "outputs": [],
   "source": []
  },
  {
   "cell_type": "code",
   "execution_count": null,
   "id": "63da2d1a",
   "metadata": {},
   "outputs": [],
   "source": []
  }
 ],
 "metadata": {
  "kernelspec": {
   "display_name": "Python 3",
   "language": "python",
   "name": "python3"
  },
  "language_info": {
   "codemirror_mode": {
    "name": "ipython",
    "version": 3
   },
   "file_extension": ".py",
   "mimetype": "text/x-python",
   "name": "python",
   "nbconvert_exporter": "python",
   "pygments_lexer": "ipython3",
   "version": "3.8.8"
  }
 },
 "nbformat": 4,
 "nbformat_minor": 5
}
