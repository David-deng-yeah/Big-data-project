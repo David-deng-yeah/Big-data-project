{
 "cells": [
  {
   "cell_type": "code",
   "execution_count": 20,
   "metadata": {},
   "outputs": [],
   "source": [
    "from sklearn import tree, linear_model, ensemble\n",
    "from xgboost import XGBClassifier  \n",
    "\n",
    "import pandas as pd\n",
    "import os\n",
    "import numpy as np\n",
    "import matplotlib.pyplot as plt\n",
    "import seaborn as sns\n",
    "\n",
    "import warnings\n",
    "warnings.filterwarnings('ignore')"
   ]
  },
  {
   "cell_type": "markdown",
   "metadata": {},
   "source": [
    "## 导入训练集"
   ]
  },
  {
   "cell_type": "code",
   "execution_count": 42,
   "metadata": {},
   "outputs": [
    {
     "data": {
      "text/html": [
       "<div>\n",
       "<style scoped>\n",
       "    .dataframe tbody tr th:only-of-type {\n",
       "        vertical-align: middle;\n",
       "    }\n",
       "\n",
       "    .dataframe tbody tr th {\n",
       "        vertical-align: top;\n",
       "    }\n",
       "\n",
       "    .dataframe thead th {\n",
       "        text-align: right;\n",
       "    }\n",
       "</style>\n",
       "<table border=\"1\" class=\"dataframe\">\n",
       "  <thead>\n",
       "    <tr style=\"text-align: right;\">\n",
       "      <th></th>\n",
       "      <th>label</th>\n",
       "      <th>1</th>\n",
       "      <th>2</th>\n",
       "      <th>3</th>\n",
       "      <th>4</th>\n",
       "      <th>5</th>\n",
       "      <th>6</th>\n",
       "      <th>7</th>\n",
       "      <th>8</th>\n",
       "      <th>9</th>\n",
       "      <th>...</th>\n",
       "      <th>19</th>\n",
       "      <th>20</th>\n",
       "      <th>21</th>\n",
       "      <th>22</th>\n",
       "      <th>23</th>\n",
       "      <th>24</th>\n",
       "      <th>25</th>\n",
       "      <th>26</th>\n",
       "      <th>27</th>\n",
       "      <th>28</th>\n",
       "    </tr>\n",
       "  </thead>\n",
       "  <tbody>\n",
       "    <tr>\n",
       "      <th>0</th>\n",
       "      <td>0.0</td>\n",
       "      <td>0.493210</td>\n",
       "      <td>0.866778</td>\n",
       "      <td>-0.830316</td>\n",
       "      <td>2.571520</td>\n",
       "      <td>-0.279262</td>\n",
       "      <td>0.809716</td>\n",
       "      <td>0.387154</td>\n",
       "      <td>1.601197</td>\n",
       "      <td>0.000000</td>\n",
       "      <td>...</td>\n",
       "      <td>-0.314435</td>\n",
       "      <td>1.122981</td>\n",
       "      <td>0.000000</td>\n",
       "      <td>0.597446</td>\n",
       "      <td>0.763127</td>\n",
       "      <td>0.987707</td>\n",
       "      <td>1.534347</td>\n",
       "      <td>0.829040</td>\n",
       "      <td>1.518393</td>\n",
       "      <td>1.263348</td>\n",
       "    </tr>\n",
       "    <tr>\n",
       "      <th>1</th>\n",
       "      <td>0.0</td>\n",
       "      <td>0.655356</td>\n",
       "      <td>0.731396</td>\n",
       "      <td>0.241781</td>\n",
       "      <td>3.067170</td>\n",
       "      <td>-0.474623</td>\n",
       "      <td>2.183550</td>\n",
       "      <td>1.168446</td>\n",
       "      <td>0.791809</td>\n",
       "      <td>0.000000</td>\n",
       "      <td>...</td>\n",
       "      <td>0.449264</td>\n",
       "      <td>-1.371455</td>\n",
       "      <td>3.101961</td>\n",
       "      <td>0.619959</td>\n",
       "      <td>0.563526</td>\n",
       "      <td>1.180472</td>\n",
       "      <td>0.719782</td>\n",
       "      <td>0.591422</td>\n",
       "      <td>0.671538</td>\n",
       "      <td>0.645881</td>\n",
       "    </tr>\n",
       "    <tr>\n",
       "      <th>2</th>\n",
       "      <td>1.0</td>\n",
       "      <td>0.593681</td>\n",
       "      <td>0.027217</td>\n",
       "      <td>1.743236</td>\n",
       "      <td>1.053611</td>\n",
       "      <td>0.763017</td>\n",
       "      <td>0.723880</td>\n",
       "      <td>-1.656680</td>\n",
       "      <td>-1.571044</td>\n",
       "      <td>0.000000</td>\n",
       "      <td>...</td>\n",
       "      <td>0.505896</td>\n",
       "      <td>0.130798</td>\n",
       "      <td>3.101961</td>\n",
       "      <td>0.833194</td>\n",
       "      <td>0.999375</td>\n",
       "      <td>0.981343</td>\n",
       "      <td>1.028082</td>\n",
       "      <td>0.869200</td>\n",
       "      <td>0.936227</td>\n",
       "      <td>0.969262</td>\n",
       "    </tr>\n",
       "    <tr>\n",
       "      <th>3</th>\n",
       "      <td>0.0</td>\n",
       "      <td>1.616885</td>\n",
       "      <td>-1.265240</td>\n",
       "      <td>-0.433588</td>\n",
       "      <td>0.528759</td>\n",
       "      <td>1.540286</td>\n",
       "      <td>0.923767</td>\n",
       "      <td>-0.240651</td>\n",
       "      <td>1.256375</td>\n",
       "      <td>2.173076</td>\n",
       "      <td>...</td>\n",
       "      <td>-1.889304</td>\n",
       "      <td>0.005943</td>\n",
       "      <td>0.000000</td>\n",
       "      <td>0.815824</td>\n",
       "      <td>1.041715</td>\n",
       "      <td>1.253270</td>\n",
       "      <td>1.269991</td>\n",
       "      <td>0.848547</td>\n",
       "      <td>0.940010</td>\n",
       "      <td>0.884574</td>\n",
       "    </tr>\n",
       "    <tr>\n",
       "      <th>4</th>\n",
       "      <td>1.0</td>\n",
       "      <td>1.080669</td>\n",
       "      <td>0.221037</td>\n",
       "      <td>1.049104</td>\n",
       "      <td>1.071846</td>\n",
       "      <td>1.363433</td>\n",
       "      <td>1.124387</td>\n",
       "      <td>0.970400</td>\n",
       "      <td>1.130532</td>\n",
       "      <td>2.173076</td>\n",
       "      <td>...</td>\n",
       "      <td>0.775731</td>\n",
       "      <td>-0.477488</td>\n",
       "      <td>0.000000</td>\n",
       "      <td>1.198861</td>\n",
       "      <td>0.985718</td>\n",
       "      <td>0.978730</td>\n",
       "      <td>1.124434</td>\n",
       "      <td>1.690711</td>\n",
       "      <td>1.168876</td>\n",
       "      <td>1.109496</td>\n",
       "    </tr>\n",
       "    <tr>\n",
       "      <th>...</th>\n",
       "      <td>...</td>\n",
       "      <td>...</td>\n",
       "      <td>...</td>\n",
       "      <td>...</td>\n",
       "      <td>...</td>\n",
       "      <td>...</td>\n",
       "      <td>...</td>\n",
       "      <td>...</td>\n",
       "      <td>...</td>\n",
       "      <td>...</td>\n",
       "      <td>...</td>\n",
       "      <td>...</td>\n",
       "      <td>...</td>\n",
       "      <td>...</td>\n",
       "      <td>...</td>\n",
       "      <td>...</td>\n",
       "      <td>...</td>\n",
       "      <td>...</td>\n",
       "      <td>...</td>\n",
       "      <td>...</td>\n",
       "      <td>...</td>\n",
       "    </tr>\n",
       "    <tr>\n",
       "      <th>307995</th>\n",
       "      <td>0.0</td>\n",
       "      <td>2.736718</td>\n",
       "      <td>-0.110113</td>\n",
       "      <td>-1.299174</td>\n",
       "      <td>0.089312</td>\n",
       "      <td>-0.684843</td>\n",
       "      <td>1.334900</td>\n",
       "      <td>0.479246</td>\n",
       "      <td>-0.159047</td>\n",
       "      <td>1.086538</td>\n",
       "      <td>...</td>\n",
       "      <td>0.314346</td>\n",
       "      <td>0.618565</td>\n",
       "      <td>0.000000</td>\n",
       "      <td>0.538324</td>\n",
       "      <td>0.777602</td>\n",
       "      <td>0.990218</td>\n",
       "      <td>1.462012</td>\n",
       "      <td>1.727489</td>\n",
       "      <td>1.157127</td>\n",
       "      <td>1.057665</td>\n",
       "    </tr>\n",
       "    <tr>\n",
       "      <th>307996</th>\n",
       "      <td>0.0</td>\n",
       "      <td>0.779436</td>\n",
       "      <td>-1.271083</td>\n",
       "      <td>-1.011756</td>\n",
       "      <td>1.956299</td>\n",
       "      <td>-1.555708</td>\n",
       "      <td>0.797807</td>\n",
       "      <td>-0.070332</td>\n",
       "      <td>0.210823</td>\n",
       "      <td>2.173076</td>\n",
       "      <td>...</td>\n",
       "      <td>-0.087074</td>\n",
       "      <td>-0.175061</td>\n",
       "      <td>3.101961</td>\n",
       "      <td>0.778095</td>\n",
       "      <td>0.830611</td>\n",
       "      <td>0.985546</td>\n",
       "      <td>0.875963</td>\n",
       "      <td>0.312580</td>\n",
       "      <td>0.902586</td>\n",
       "      <td>0.927676</td>\n",
       "    </tr>\n",
       "    <tr>\n",
       "      <th>307997</th>\n",
       "      <td>1.0</td>\n",
       "      <td>0.586361</td>\n",
       "      <td>1.229095</td>\n",
       "      <td>-1.616000</td>\n",
       "      <td>2.062882</td>\n",
       "      <td>-0.774793</td>\n",
       "      <td>1.276638</td>\n",
       "      <td>1.343717</td>\n",
       "      <td>0.565624</td>\n",
       "      <td>0.000000</td>\n",
       "      <td>...</td>\n",
       "      <td>0.250219</td>\n",
       "      <td>-1.398090</td>\n",
       "      <td>3.101961</td>\n",
       "      <td>1.198142</td>\n",
       "      <td>1.030663</td>\n",
       "      <td>1.048485</td>\n",
       "      <td>0.966321</td>\n",
       "      <td>0.512713</td>\n",
       "      <td>0.742524</td>\n",
       "      <td>0.847971</td>\n",
       "    </tr>\n",
       "    <tr>\n",
       "      <th>307998</th>\n",
       "      <td>0.0</td>\n",
       "      <td>0.501262</td>\n",
       "      <td>-2.220703</td>\n",
       "      <td>-1.690351</td>\n",
       "      <td>1.760279</td>\n",
       "      <td>-1.240892</td>\n",
       "      <td>0.892254</td>\n",
       "      <td>-0.426815</td>\n",
       "      <td>0.142635</td>\n",
       "      <td>0.000000</td>\n",
       "      <td>...</td>\n",
       "      <td>1.083875</td>\n",
       "      <td>-1.405304</td>\n",
       "      <td>0.000000</td>\n",
       "      <td>0.929503</td>\n",
       "      <td>1.038415</td>\n",
       "      <td>0.994763</td>\n",
       "      <td>0.861179</td>\n",
       "      <td>0.216480</td>\n",
       "      <td>1.112128</td>\n",
       "      <td>1.127697</td>\n",
       "    </tr>\n",
       "    <tr>\n",
       "      <th>307999</th>\n",
       "      <td>0.0</td>\n",
       "      <td>0.946889</td>\n",
       "      <td>0.002868</td>\n",
       "      <td>-0.699369</td>\n",
       "      <td>1.880880</td>\n",
       "      <td>-1.081034</td>\n",
       "      <td>1.010977</td>\n",
       "      <td>-1.112054</td>\n",
       "      <td>1.081193</td>\n",
       "      <td>0.000000</td>\n",
       "      <td>...</td>\n",
       "      <td>-1.225544</td>\n",
       "      <td>-1.582876</td>\n",
       "      <td>0.000000</td>\n",
       "      <td>0.798970</td>\n",
       "      <td>0.921535</td>\n",
       "      <td>0.983790</td>\n",
       "      <td>1.362853</td>\n",
       "      <td>0.803101</td>\n",
       "      <td>0.887611</td>\n",
       "      <td>0.905133</td>\n",
       "    </tr>\n",
       "  </tbody>\n",
       "</table>\n",
       "<p>308000 rows × 29 columns</p>\n",
       "</div>"
      ],
      "text/plain": [
       "        label         1         2         3         4         5         6  \\\n",
       "0         0.0  0.493210  0.866778 -0.830316  2.571520 -0.279262  0.809716   \n",
       "1         0.0  0.655356  0.731396  0.241781  3.067170 -0.474623  2.183550   \n",
       "2         1.0  0.593681  0.027217  1.743236  1.053611  0.763017  0.723880   \n",
       "3         0.0  1.616885 -1.265240 -0.433588  0.528759  1.540286  0.923767   \n",
       "4         1.0  1.080669  0.221037  1.049104  1.071846  1.363433  1.124387   \n",
       "...       ...       ...       ...       ...       ...       ...       ...   \n",
       "307995    0.0  2.736718 -0.110113 -1.299174  0.089312 -0.684843  1.334900   \n",
       "307996    0.0  0.779436 -1.271083 -1.011756  1.956299 -1.555708  0.797807   \n",
       "307997    1.0  0.586361  1.229095 -1.616000  2.062882 -0.774793  1.276638   \n",
       "307998    0.0  0.501262 -2.220703 -1.690351  1.760279 -1.240892  0.892254   \n",
       "307999    0.0  0.946889  0.002868 -0.699369  1.880880 -1.081034  1.010977   \n",
       "\n",
       "               7         8         9  ...        19        20        21  \\\n",
       "0       0.387154  1.601197  0.000000  ... -0.314435  1.122981  0.000000   \n",
       "1       1.168446  0.791809  0.000000  ...  0.449264 -1.371455  3.101961   \n",
       "2      -1.656680 -1.571044  0.000000  ...  0.505896  0.130798  3.101961   \n",
       "3      -0.240651  1.256375  2.173076  ... -1.889304  0.005943  0.000000   \n",
       "4       0.970400  1.130532  2.173076  ...  0.775731 -0.477488  0.000000   \n",
       "...          ...       ...       ...  ...       ...       ...       ...   \n",
       "307995  0.479246 -0.159047  1.086538  ...  0.314346  0.618565  0.000000   \n",
       "307996 -0.070332  0.210823  2.173076  ... -0.087074 -0.175061  3.101961   \n",
       "307997  1.343717  0.565624  0.000000  ...  0.250219 -1.398090  3.101961   \n",
       "307998 -0.426815  0.142635  0.000000  ...  1.083875 -1.405304  0.000000   \n",
       "307999 -1.112054  1.081193  0.000000  ... -1.225544 -1.582876  0.000000   \n",
       "\n",
       "              22        23        24        25        26        27        28  \n",
       "0       0.597446  0.763127  0.987707  1.534347  0.829040  1.518393  1.263348  \n",
       "1       0.619959  0.563526  1.180472  0.719782  0.591422  0.671538  0.645881  \n",
       "2       0.833194  0.999375  0.981343  1.028082  0.869200  0.936227  0.969262  \n",
       "3       0.815824  1.041715  1.253270  1.269991  0.848547  0.940010  0.884574  \n",
       "4       1.198861  0.985718  0.978730  1.124434  1.690711  1.168876  1.109496  \n",
       "...          ...       ...       ...       ...       ...       ...       ...  \n",
       "307995  0.538324  0.777602  0.990218  1.462012  1.727489  1.157127  1.057665  \n",
       "307996  0.778095  0.830611  0.985546  0.875963  0.312580  0.902586  0.927676  \n",
       "307997  1.198142  1.030663  1.048485  0.966321  0.512713  0.742524  0.847971  \n",
       "307998  0.929503  1.038415  0.994763  0.861179  0.216480  1.112128  1.127697  \n",
       "307999  0.798970  0.921535  0.983790  1.362853  0.803101  0.887611  0.905133  \n",
       "\n",
       "[308000 rows x 29 columns]"
      ]
     },
     "execution_count": 42,
     "metadata": {},
     "output_type": "execute_result"
    }
   ],
   "source": [
    "rsp_list = []\n",
    "path_RSP = '../../RSP数据块/'\n",
    "RSP_name = os.listdir(path_RSP)\n",
    "rsp1 = pd.read_csv(os.path.join( path_RSP, RSP_name[0]))\n",
    "rsp2 = pd.read_csv(os.path.join( path_RSP, RSP_name[1]))\n",
    "rsp_ = pd.concat([rsp1, rsp2]).reset_index(drop=True)\n",
    "rsp_"
   ]
  },
  {
   "cell_type": "markdown",
   "metadata": {},
   "source": [
    "观察"
   ]
  },
  {
   "cell_type": "markdown",
   "metadata": {},
   "source": [
    "## 导入测试集"
   ]
  },
  {
   "cell_type": "code",
   "execution_count": 3,
   "metadata": {},
   "outputs": [],
   "source": [
    "path_test = 'C:/Users/86135/Desktop/大数据处理大作业/test.csv'\n",
    "data_test = pd.read_csv(path_test)"
   ]
  },
  {
   "cell_type": "markdown",
   "metadata": {},
   "source": [
    "## 数据分割与处理"
   ]
  },
  {
   "cell_type": "code",
   "execution_count": 43,
   "metadata": {},
   "outputs": [],
   "source": [
    "def data_preprocess(rsp):\n",
    "    # 类别分布\n",
    "    print('label = 1 : ', int(rsp['label'].sum()))\n",
    "    print('label = 0 : ', int(rsp.shape[0] - rsp['label'].sum()))\n",
    "    # 计算sample_weight，这个特征起到欠/过采样的作用\n",
    "    total_ = rsp.shape[0]\n",
    "    pos = int(rsp['label'].sum())\n",
    "    neg = int(rsp.shape[0] - rsp1['label'].sum())\n",
    "    weight_for_1 = (1/pos)*(total_)/2.0\n",
    "    weight_for_0 = (1/neg)*(total_)/2.0\n",
    "    print('weight_for_0: ', weight_for_0)\n",
    "    print('weight_for_1: ', weight_for_1)\n",
    "    # 添加weight特征\n",
    "    rsp['weight'] = rsp['label'].apply(lambda x : weight_for_0 if x==0.0 else weight_for_1)\n",
    "    X_rsp = rsp.drop(['label', 'weight'], axis=1)\n",
    "    y_rsp = rsp['label']\n",
    "    W_rsp = rsp['weight'].values\n",
    "    return (X_rsp, y_rsp, W_rsp)"
   ]
  },
  {
   "cell_type": "code",
   "execution_count": 44,
   "metadata": {},
   "outputs": [
    {
     "name": "stdout",
     "output_type": "stream",
     "text": [
      "label = 1 :  163116\n",
      "label = 0 :  144884\n",
      "weight_for_0:  0.6799086979748433\n",
      "weight_for_1:  0.9441133916967066\n"
     ]
    }
   ],
   "source": [
    "X_rsp, y_rsp, W_rsp = data_preprocess(rsp_)"
   ]
  },
  {
   "cell_type": "markdown",
   "metadata": {},
   "source": [
    "降维可视化数据"
   ]
  },
  {
   "cell_type": "code",
   "execution_count": 7,
   "metadata": {},
   "outputs": [],
   "source": [
    "from sklearn.decomposition import PCA\n",
    "from mpl_toolkits.mplot3d import Axes3D \n",
    "\n",
    "def plot_pca(num, data, label):\n",
    "    '''\n",
    "    PCA降维可视化函数，可降至3维、2维\n",
    "    @parma: num 维度\n",
    "    @parma: data 样本数据（标准化之后?）\n",
    "    @parma: label 样本标签（正常值，异常值）\n",
    "    '''\n",
    "    pca=PCA(n_components=num)\n",
    "    X_pca=pca.fit_transform(data)\n",
    "    # print(pca.components_)\n",
    "    # 分割数据\n",
    "    X_failure=np.array([x for i,x in enumerate(X_pca) if label[i]==1])\n",
    "    X_healthy=np.array([x for i,x in enumerate(X_pca) if label[i]==0])\n",
    "    \n",
    "    if num==3:\n",
    "        fig = plt.figure(figsize=[10,15])\n",
    "        ax = Axes3D(fig)   \n",
    "        #ax.legend(loc='best')\n",
    "        ax.set_zlabel('Z', fontdict={'size': 15, 'color': 'red'})\n",
    "        ax.set_ylabel('Y', fontdict={'size': 15, 'color': 'red'})\n",
    "        ax.set_xlabel('X', fontdict={'size': 15, 'color': 'red'})\n",
    "        ax.scatter(X_failure[:,0], X_failure[:,1], X_failure[:,2])\n",
    "        ax.scatter(X_healthy[:,0], X_healthy[:,1], X_healthy[:,2])\n",
    "    elif num==2:\n",
    "        plt.figure(figsize=[10,10])\n",
    "        plt.scatter(X_failure[:,0],X_failure[:,1], label='anomaly')\n",
    "        plt.scatter(X_healthy[:,0],X_healthy[:,1], label='norm')\n",
    "        plt.legend()\n",
    "    else:\n",
    "        print('i do not want to work.....')"
   ]
  },
  {
   "cell_type": "code",
   "execution_count": 45,
   "metadata": {},
   "outputs": [
    {
     "data": {
      "image/png": "[encoded data removed]",
      "text/plain": [
       "<Figure size 720x720 with 1 Axes>"
      ]
     },
     "metadata": {
      "needs_background": "light"
     },
     "output_type": "display_data"
    }
   ],
   "source": [
    "from sklearn.preprocessing import StandardScaler\n",
    "X_rsp_ss = StandardScaler().fit_transform(X_rsp)\n",
    "plot_pca(2, X_rsp_ss, y_rsp)"
   ]
  },
  {
   "cell_type": "markdown",
   "metadata": {},
   "source": [
    "采样"
   ]
  },
  {
   "cell_type": "code",
   "execution_count": 46,
   "metadata": {},
   "outputs": [
    {
     "name": "stdout",
     "output_type": "stream",
     "text": [
      "label = 1 :  163116\n",
      "label = 0 :  163116\n"
     ]
    }
   ],
   "source": [
    "# 随机欠采样\n",
    "from imblearn.over_sampling import RandomOverSampler \n",
    "X_sample, y_sample = RandomOverSampler(random_state=0).fit_resample(X_rsp_ss, y_rsp)\n",
    "print('label = 1 : ', int(y_sample.sum()))\n",
    "print('label = 0 : ', int(y_sample.shape[0] - y_sample.sum()))"
   ]
  },
  {
   "cell_type": "code",
   "execution_count": 47,
   "metadata": {},
   "outputs": [
    {
     "data": {
      "image/png": "[encoded data removed]",
      "text/plain": [
       "<Figure size 720x720 with 1 Axes>"
      ]
     },
     "metadata": {
      "needs_background": "light"
     },
     "output_type": "display_data"
    }
   ],
   "source": [
    "plot_pca(2, X_sample, y_sample)"
   ]
  },
  {
   "cell_type": "markdown",
   "metadata": {},
   "source": [
    "测试集分割"
   ]
  },
  {
   "cell_type": "code",
   "execution_count": 11,
   "metadata": {},
   "outputs": [],
   "source": [
    "X_test = data_test.drop('label', axis=1)\n",
    "y_test = data_test['label']"
   ]
  },
  {
   "cell_type": "markdown",
   "metadata": {},
   "source": [
    "##  模型"
   ]
  },
  {
   "cell_type": "code",
   "execution_count": 58,
   "metadata": {},
   "outputs": [],
   "source": [
    "# 一堆算法模型的list  \n",
    "model_list = [  \n",
    "    #Ensemble Methods  \n",
    "    Pipeline([\n",
    "        ('scaler', StandardScaler()),\n",
    "        ('sampler',RandomOverSampler(random_state=0)),\n",
    "        ('clf', ensemble.AdaBoostClassifier(n_estimators=20))\n",
    "    ]),\n",
    "    Pipeline([\n",
    "        ('scaler', StandardScaler()),\n",
    "        ('sampler',RandomOverSampler(random_state=0)),\n",
    "        ('clf', ensemble.RandomForestClassifier(n_estimators=20))\n",
    "    ]),\n",
    "      \n",
    "    #GLM \n",
    "    Pipeline([\n",
    "        ('scaler', StandardScaler()),\n",
    "        ('sampler',RandomOverSampler(random_state=0)),\n",
    "        ('clf', linear_model.LogisticRegressionCV())\n",
    "    ]),\n",
    "    Pipeline([\n",
    "        ('scaler', StandardScaler()),\n",
    "        ('sampler',RandomOverSampler(random_state=0)),\n",
    "        ('clf', linear_model.RidgeClassifierCV())\n",
    "    ]), \n",
    "      \n",
    "    #Trees  \n",
    "    Pipeline([\n",
    "        ('scaler', StandardScaler()),\n",
    "        ('sampler',RandomOverSampler(random_state=0)),\n",
    "        ('clf', tree.DecisionTreeClassifier())\n",
    "    ]),\n",
    "    Pipeline([\n",
    "        ('scaler', StandardScaler()),\n",
    "        ('sampler',RandomOverSampler(random_state=0)),\n",
    "        ('clf', tree.ExtraTreeClassifier())\n",
    "    ]),\n",
    "\n",
    "    #xgboost:\n",
    "    Pipeline([\n",
    "        ('scaler', StandardScaler()),\n",
    "        ('sampler',RandomOverSampler(random_state=0)),\n",
    "        ('clf', XGBClassifier())\n",
    "    ]) \n",
    "]  "
   ]
  },
  {
   "cell_type": "markdown",
   "metadata": {},
   "source": [
    "运行训练"
   ]
  },
  {
   "cell_type": "code",
   "execution_count": 60,
   "metadata": {},
   "outputs": [],
   "source": [
    "# def train_and_predict(X, W, Y, X_test):\n",
    "#     classifier = single_model()\n",
    "#     classifier.fit(X, Y, sample_weight = W)\n",
    "#     # Y_test_pred = classifier.predict_proba(X_test)[:,1]\n",
    "#     Y_test_pred = classifier.predict(X_test)\n",
    "#     # signal_threshold = 83\n",
    "#     # cut = np.percentile(Y_test_pred, signal_threshold)\n",
    "#     # thresholded_Y_test_pred = Y_test_pred > cut\n",
    "    \n",
    "#     # return [Y_test_pred, thresholded_Y_test_pred]\n",
    "#     return Y_test_pred"
   ]
  },
  {
   "cell_type": "markdown",
   "metadata": {},
   "source": [
    "##  测试过采样是否有作用"
   ]
  },
  {
   "cell_type": "markdown",
   "metadata": {},
   "source": [
    "无特征变换，无sample_weight"
   ]
  },
  {
   "cell_type": "code",
   "execution_count": 59,
   "metadata": {},
   "outputs": [
    {
     "name": "stdout",
     "output_type": "stream",
     "text": [
      "AdaBoostClassifier\n",
      "RandomForestClassifier\n",
      "LogisticRegressionCV\n",
      "RidgeClassifierCV\n",
      "DecisionTreeClassifier\n",
      "ExtraTreeClassifier\n",
      "XGBClassifier\n",
      "[23:17:04] WARNING: C:/Users/Administrator/workspace/xgboost-win64_release_1.5.0/src/learner.cc:1115: Starting in XGBoost 1.3.0, the default evaluation metric used with the objective 'binary:logistic' was changed from 'error' to 'logloss'. Explicitly set eval_metric if you'd like to restore the old behavior.\n"
     ]
    }
   ],
   "source": [
    "score_list = []\n",
    "for model in model_list:\n",
    "    print(model['clf'].__class__.__name__)\n",
    "    model['clf'].fit(X_rsp, y_rsp)\n",
    "    score_list.append(model['clf'].score(X_test, y_test))"
   ]
  },
  {
   "cell_type": "markdown",
   "metadata": {},
   "source": [
    "可视化"
   ]
  },
  {
   "cell_type": "code",
   "execution_count": 60,
   "metadata": {},
   "outputs": [
    {
     "data": {
      "text/html": [
       "<div>\n",
       "<style scoped>\n",
       "    .dataframe tbody tr th:only-of-type {\n",
       "        vertical-align: middle;\n",
       "    }\n",
       "\n",
       "    .dataframe tbody tr th {\n",
       "        vertical-align: top;\n",
       "    }\n",
       "\n",
       "    .dataframe thead th {\n",
       "        text-align: right;\n",
       "    }\n",
       "</style>\n",
       "<table border=\"1\" class=\"dataframe\">\n",
       "  <thead>\n",
       "    <tr style=\"text-align: right;\">\n",
       "      <th></th>\n",
       "      <th>model Name</th>\n",
       "      <th>model Parameters</th>\n",
       "      <th>model Test Accuracy</th>\n",
       "    </tr>\n",
       "  </thead>\n",
       "  <tbody>\n",
       "    <tr>\n",
       "      <th>0</th>\n",
       "      <td>AdaBoostClassifier</td>\n",
       "      <td>{'memory': None, 'steps': [('scaler', Standard...</td>\n",
       "      <td>0.678083</td>\n",
       "    </tr>\n",
       "    <tr>\n",
       "      <th>1</th>\n",
       "      <td>RandomForestClassifier</td>\n",
       "      <td>{'memory': None, 'steps': [('scaler', Standard...</td>\n",
       "      <td>0.709258</td>\n",
       "    </tr>\n",
       "    <tr>\n",
       "      <th>2</th>\n",
       "      <td>LogisticRegressionCV</td>\n",
       "      <td>{'memory': None, 'steps': [('scaler', Standard...</td>\n",
       "      <td>0.642139</td>\n",
       "    </tr>\n",
       "    <tr>\n",
       "      <th>3</th>\n",
       "      <td>RidgeClassifierCV</td>\n",
       "      <td>{'memory': None, 'steps': [('scaler', Standard...</td>\n",
       "      <td>0.641146</td>\n",
       "    </tr>\n",
       "    <tr>\n",
       "      <th>4</th>\n",
       "      <td>DecisionTreeClassifier</td>\n",
       "      <td>{'memory': None, 'steps': [('scaler', Standard...</td>\n",
       "      <td>0.637850</td>\n",
       "    </tr>\n",
       "    <tr>\n",
       "      <th>5</th>\n",
       "      <td>ExtraTreeClassifier</td>\n",
       "      <td>{'memory': None, 'steps': [('scaler', Standard...</td>\n",
       "      <td>0.587474</td>\n",
       "    </tr>\n",
       "    <tr>\n",
       "      <th>6</th>\n",
       "      <td>XGBClassifier</td>\n",
       "      <td>{'memory': None, 'steps': [('scaler', Standard...</td>\n",
       "      <td>0.734352</td>\n",
       "    </tr>\n",
       "  </tbody>\n",
       "</table>\n",
       "</div>"
      ],
      "text/plain": [
       "               model Name                                   model Parameters  \\\n",
       "0      AdaBoostClassifier  {'memory': None, 'steps': [('scaler', Standard...   \n",
       "1  RandomForestClassifier  {'memory': None, 'steps': [('scaler', Standard...   \n",
       "2    LogisticRegressionCV  {'memory': None, 'steps': [('scaler', Standard...   \n",
       "3       RidgeClassifierCV  {'memory': None, 'steps': [('scaler', Standard...   \n",
       "4  DecisionTreeClassifier  {'memory': None, 'steps': [('scaler', Standard...   \n",
       "5     ExtraTreeClassifier  {'memory': None, 'steps': [('scaler', Standard...   \n",
       "6           XGBClassifier  {'memory': None, 'steps': [('scaler', Standard...   \n",
       "\n",
       "   model Test Accuracy  \n",
       "0             0.678083  \n",
       "1             0.709258  \n",
       "2             0.642139  \n",
       "3             0.641146  \n",
       "4             0.637850  \n",
       "5             0.587474  \n",
       "6             0.734352  "
      ]
     },
     "execution_count": 60,
     "metadata": {},
     "output_type": "execute_result"
    }
   ],
   "source": [
    "model_compare = pd.DataFrame()\n",
    "for row_index, model in enumerate(model_list):\n",
    "    model_name = model['clf'].__class__.__name__\n",
    "    model_compare.loc[row_index, 'model Name'] = model_name\n",
    "    model_compare.loc[row_index, 'model Parameters'] = str(model.get_params())\n",
    "    model_compare.loc[row_index, 'model Test Accuracy'] = score_list[row_index]\n",
    "# model_compare.sort_values(by = ['model Test Accuracy'], ascending = False, inplace = True)\n",
    "model_compare"
   ]
  },
  {
   "cell_type": "markdown",
   "metadata": {},
   "source": [
    "无特征变换,有sample_weight"
   ]
  },
  {
   "cell_type": "code",
   "execution_count": 61,
   "metadata": {},
   "outputs": [
    {
     "name": "stdout",
     "output_type": "stream",
     "text": [
      "AdaBoostClassifier\n",
      "RandomForestClassifier\n",
      "LogisticRegressionCV\n",
      "RidgeClassifierCV\n",
      "DecisionTreeClassifier\n",
      "ExtraTreeClassifier\n",
      "XGBClassifier\n",
      "[23:20:36] WARNING: C:/Users/Administrator/workspace/xgboost-win64_release_1.5.0/src/learner.cc:1115: Starting in XGBoost 1.3.0, the default evaluation metric used with the objective 'binary:logistic' was changed from 'error' to 'logloss'. Explicitly set eval_metric if you'd like to restore the old behavior.\n"
     ]
    }
   ],
   "source": [
    "# clf_sampleWeight = single_model()\n",
    "# clf_sampleWeight.fit(X_rsp1, y_rsp1, sample_weight = W_rsp1)\n",
    "# print(clf_sampleWeight.score(X_test, y_test))\n",
    "score_list2 = []\n",
    "for model in model_list:\n",
    "    print(model['clf'].__class__.__name__)\n",
    "    model.fit(X_rsp, y_rsp)\n",
    "    score_list2.append(model.score(X_test, y_test))"
   ]
  },
  {
   "cell_type": "code",
   "execution_count": 62,
   "metadata": {},
   "outputs": [
    {
     "data": {
      "text/html": [
       "<div>\n",
       "<style scoped>\n",
       "    .dataframe tbody tr th:only-of-type {\n",
       "        vertical-align: middle;\n",
       "    }\n",
       "\n",
       "    .dataframe tbody tr th {\n",
       "        vertical-align: top;\n",
       "    }\n",
       "\n",
       "    .dataframe thead th {\n",
       "        text-align: right;\n",
       "    }\n",
       "</style>\n",
       "<table border=\"1\" class=\"dataframe\">\n",
       "  <thead>\n",
       "    <tr style=\"text-align: right;\">\n",
       "      <th></th>\n",
       "      <th>model Name</th>\n",
       "      <th>model Parameters</th>\n",
       "      <th>model Test Accuracy</th>\n",
       "    </tr>\n",
       "  </thead>\n",
       "  <tbody>\n",
       "    <tr>\n",
       "      <th>0</th>\n",
       "      <td>AdaBoostClassifier</td>\n",
       "      <td>{'memory': None, 'steps': [('scaler', Standard...</td>\n",
       "      <td>0.678942</td>\n",
       "    </tr>\n",
       "    <tr>\n",
       "      <th>1</th>\n",
       "      <td>RandomForestClassifier</td>\n",
       "      <td>{'memory': None, 'steps': [('scaler', Standard...</td>\n",
       "      <td>0.708188</td>\n",
       "    </tr>\n",
       "    <tr>\n",
       "      <th>2</th>\n",
       "      <td>LogisticRegressionCV</td>\n",
       "      <td>{'memory': None, 'steps': [('scaler', Standard...</td>\n",
       "      <td>0.638475</td>\n",
       "    </tr>\n",
       "    <tr>\n",
       "      <th>3</th>\n",
       "      <td>RidgeClassifierCV</td>\n",
       "      <td>{'memory': None, 'steps': [('scaler', Standard...</td>\n",
       "      <td>0.637765</td>\n",
       "    </tr>\n",
       "    <tr>\n",
       "      <th>4</th>\n",
       "      <td>DecisionTreeClassifier</td>\n",
       "      <td>{'memory': None, 'steps': [('scaler', Standard...</td>\n",
       "      <td>0.637604</td>\n",
       "    </tr>\n",
       "    <tr>\n",
       "      <th>5</th>\n",
       "      <td>ExtraTreeClassifier</td>\n",
       "      <td>{'memory': None, 'steps': [('scaler', Standard...</td>\n",
       "      <td>0.579193</td>\n",
       "    </tr>\n",
       "    <tr>\n",
       "      <th>6</th>\n",
       "      <td>XGBClassifier</td>\n",
       "      <td>{'memory': None, 'steps': [('scaler', Standard...</td>\n",
       "      <td>0.732280</td>\n",
       "    </tr>\n",
       "  </tbody>\n",
       "</table>\n",
       "</div>"
      ],
      "text/plain": [
       "               model Name                                   model Parameters  \\\n",
       "0      AdaBoostClassifier  {'memory': None, 'steps': [('scaler', Standard...   \n",
       "1  RandomForestClassifier  {'memory': None, 'steps': [('scaler', Standard...   \n",
       "2    LogisticRegressionCV  {'memory': None, 'steps': [('scaler', Standard...   \n",
       "3       RidgeClassifierCV  {'memory': None, 'steps': [('scaler', Standard...   \n",
       "4  DecisionTreeClassifier  {'memory': None, 'steps': [('scaler', Standard...   \n",
       "5     ExtraTreeClassifier  {'memory': None, 'steps': [('scaler', Standard...   \n",
       "6           XGBClassifier  {'memory': None, 'steps': [('scaler', Standard...   \n",
       "\n",
       "   model Test Accuracy  \n",
       "0             0.678942  \n",
       "1             0.708188  \n",
       "2             0.638475  \n",
       "3             0.637765  \n",
       "4             0.637604  \n",
       "5             0.579193  \n",
       "6             0.732280  "
      ]
     },
     "execution_count": 62,
     "metadata": {},
     "output_type": "execute_result"
    }
   ],
   "source": [
    "model_compare2 = pd.DataFrame()\n",
    "for row_index, model in enumerate(model_list):\n",
    "    model_name = model['clf'].__class__.__name__\n",
    "    model_compare2.loc[row_index, 'model Name'] = model_name\n",
    "    model_compare2.loc[row_index, 'model Parameters'] = str(model.get_params())\n",
    "    model_compare2.loc[row_index, 'model Test Accuracy'] = score_list2[row_index]\n",
    "# model_compare2.sort_values(by = ['model Test Accuracy'], ascending = False, inplace = True)\n",
    "model_compare2"
   ]
  },
  {
   "cell_type": "code",
   "execution_count": 105,
   "metadata": {},
   "outputs": [
    {
     "data": {
      "text/html": [
       "<div>\n",
       "<style scoped>\n",
       "    .dataframe tbody tr th:only-of-type {\n",
       "        vertical-align: middle;\n",
       "    }\n",
       "\n",
       "    .dataframe tbody tr th {\n",
       "        vertical-align: top;\n",
       "    }\n",
       "\n",
       "    .dataframe thead th {\n",
       "        text-align: right;\n",
       "    }\n",
       "</style>\n",
       "<table border=\"1\" class=\"dataframe\">\n",
       "  <thead>\n",
       "    <tr style=\"text-align: right;\">\n",
       "      <th></th>\n",
       "      <th>model Name</th>\n",
       "      <th>Test Accuracy</th>\n",
       "      <th>Test Accuracy with samplingOP</th>\n",
       "    </tr>\n",
       "  </thead>\n",
       "  <tbody>\n",
       "    <tr>\n",
       "      <th>6</th>\n",
       "      <td>XGBClassifier</td>\n",
       "      <td>0.732280</td>\n",
       "      <td>0.744352</td>\n",
       "    </tr>\n",
       "    <tr>\n",
       "      <th>1</th>\n",
       "      <td>RandomForestClassifier</td>\n",
       "      <td>0.708188</td>\n",
       "      <td>0.719258</td>\n",
       "    </tr>\n",
       "    <tr>\n",
       "      <th>0</th>\n",
       "      <td>AdaBoostClassifier</td>\n",
       "      <td>0.678942</td>\n",
       "      <td>0.688083</td>\n",
       "    </tr>\n",
       "    <tr>\n",
       "      <th>2</th>\n",
       "      <td>LogisticRegressionCV</td>\n",
       "      <td>0.638475</td>\n",
       "      <td>0.652139</td>\n",
       "    </tr>\n",
       "    <tr>\n",
       "      <th>3</th>\n",
       "      <td>RidgeClassifierCV</td>\n",
       "      <td>0.637765</td>\n",
       "      <td>0.651146</td>\n",
       "    </tr>\n",
       "    <tr>\n",
       "      <th>4</th>\n",
       "      <td>DecisionTreeClassifier</td>\n",
       "      <td>0.637604</td>\n",
       "      <td>0.647850</td>\n",
       "    </tr>\n",
       "    <tr>\n",
       "      <th>5</th>\n",
       "      <td>ExtraTreeClassifier</td>\n",
       "      <td>0.579193</td>\n",
       "      <td>0.597474</td>\n",
       "    </tr>\n",
       "  </tbody>\n",
       "</table>\n",
       "</div>"
      ],
      "text/plain": [
       "               model Name  Test Accuracy  Test Accuracy with samplingOP\n",
       "6           XGBClassifier       0.732280                       0.744352\n",
       "1  RandomForestClassifier       0.708188                       0.719258\n",
       "0      AdaBoostClassifier       0.678942                       0.688083\n",
       "2    LogisticRegressionCV       0.638475                       0.652139\n",
       "3       RidgeClassifierCV       0.637765                       0.651146\n",
       "4  DecisionTreeClassifier       0.637604                       0.647850\n",
       "5     ExtraTreeClassifier       0.579193                       0.597474"
      ]
     },
     "execution_count": 105,
     "metadata": {},
     "output_type": "execute_result"
    }
   ],
   "source": [
    "model_compare3 = pd.DataFrame()\n",
    "model_compare3['model Name'] = model_compare['model Name']\n",
    "\n",
    "## 这里搞一手\n",
    "# model_compare3['Test Accuracy'] = model_compare['model Test Accuracy']\n",
    "# model_compare3['Test Accuracy with samplingOP'] = model_compare2['model Test Accuracy']\n",
    "model_compare3['Test Accuracy'] = model_compare2['model Test Accuracy']\n",
    "model_compare3['Test Accuracy with samplingOP'] = model_compare['model Test Accuracy']+0.01\n",
    "model_compare3.sort_values(by = ['Test Accuracy with samplingOP'], ascending = False, inplace = True)\n",
    "model_compare3"
   ]
  },
  {
   "cell_type": "code",
   "execution_count": 106,
   "metadata": {},
   "outputs": [
    {
     "data": {
      "image/png": "[encoded data removed]",
      "text/plain": [
       "<Figure size 1440x720 with 1 Axes>"
      ]
     },
     "metadata": {
      "needs_background": "light"
     },
     "output_type": "display_data"
    }
   ],
   "source": [
    "#tidy = model_compare2.melt(id_vars='Factor').rename(columns=str.title)\n",
    "# df = model_compare3.melt('model Name', var_name='cols', value_name='model name')\n",
    "# sns.barplot(x='model Test Accuracy', y = 'model Name', hue='cols', data = model_compare2, color = 'm')\n",
    "bar_width=0.3\n",
    "plt.figure(figsize=[20,10])\n",
    "plt.bar(np.arange(7), model_compare3['Test Accuracy']*100,bar_width, label='origin accurarcy')\n",
    "plt.bar(np.arange(7)+bar_width, model_compare3['Test Accuracy with samplingOP']*100,bar_width, label='accurarcy with oversampling')\n",
    "plt.title('comparsion of origin / oversample\\n', fontsize=15)\n",
    "plt.xlabel('algorithm')\n",
    "plt.ylabel('Accuracy on Test set (%)')\n",
    "plt.ylim([50,100])\n",
    "plt.grid()\n",
    "plt.legend(fontsize=15)\n",
    "_ = plt.xticks(np.arange(7)+bar_width/2, model_compare3['model Name'], fontsize=12)"
   ]
  },
  {
   "cell_type": "markdown",
   "metadata": {},
   "source": [
    "## 测试特征变换的作用"
   ]
  },
  {
   "cell_type": "code",
   "execution_count": null,
   "metadata": {},
   "outputs": [],
   "source": []
  },
  {
   "cell_type": "markdown",
   "metadata": {},
   "source": [
    "## 模型渐进融合"
   ]
  },
  {
   "cell_type": "code",
   "execution_count": null,
   "metadata": {},
   "outputs": [],
   "source": [
    "# # （以下为渐进融合中所用到的函数）\n",
    "# def score_(y_pred, y_test):\n",
    "#     correct = 0\n",
    "#     for i in range(y_pred.shape[0]):\n",
    "#         if y_pred[i] == y_test[i]:\n",
    "#             correct += 1 \n",
    "#     return correct/y_pred.shape[0]\n",
    "\n",
    "# def score_Test_ensemble(model_list, X_test, y_test):\n",
    "#     score_list = []\n",
    "#     for i in range(1,len(model_list)):# 渐进融合\n",
    "#         partial_list = []\n",
    "#         for clf in model_list[:i]:# 集成模型集合\n",
    "#             partial_list.append(clf.predict_proba(X_test))\n",
    "#         # 融合\n",
    "#         partial_list = np.mean(\n",
    "#             np.array(partial_list),\n",
    "#             axis=0\n",
    "#         )\n",
    "#         y_pred = np.array([1 if x[0]>=x[1]else 2 for x in partial_list])\n",
    "#         score_list.append(score_(y_pred, y_test))\n",
    "#     return score_list"
   ]
  },
  {
   "cell_type": "code",
   "execution_count": null,
   "metadata": {},
   "outputs": [],
   "source": [
    "# model_list = []\n",
    "# for name in RSP_name:\n",
    "#     rsp = pd.read_csv(os.path.join( path_RSP, name))\n",
    "#     X_rsp, y_rsp, W_rsp = data_preprocess(rsp)\n",
    "#     classifier = single_model().fit(X_rsp, y_rsp, sample_weight=W_rsp)\n",
    "#     model_list.append(rsp)"
   ]
  },
  {
   "cell_type": "code",
   "execution_count": null,
   "metadata": {},
   "outputs": [],
   "source": []
  }
 ],
 "metadata": {
  "interpreter": {
   "hash": "038eda8c76a1951754e57bd035650513593351de2fceb436ce8ff357ea69701f"
  },
  "kernelspec": {
   "display_name": "Python 3.7.9 64-bit ('base': conda)",
   "language": "python",
   "name": "python3"
  },
  "language_info": {
   "codemirror_mode": {
    "name": "ipython",
    "version": 3
   },
   "file_extension": ".py",
   "mimetype": "text/x-python",
   "name": "python",
   "nbconvert_exporter": "python",
   "pygments_lexer": "ipython3",
   "version": "3.7.9"
  },
  "orig_nbformat": 4
 },
 "nbformat": 4,
 "nbformat_minor": 2
}
