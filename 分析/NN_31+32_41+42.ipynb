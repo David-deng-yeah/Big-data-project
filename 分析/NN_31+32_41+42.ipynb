{
 "cells": [
  {
   "cell_type": "markdown",
   "id": "ae3ab2fd",
   "metadata": {},
   "source": [
    "## 先使用Block3132训练，再使用Block4142训练 "
   ]
  },
  {
   "cell_type": "code",
   "execution_count": 1,
   "id": "29be9ec0",
   "metadata": {},
   "outputs": [],
   "source": [
    "import pandas as pd\n",
    "import numpy as np\n",
    "import warnings\n",
    "import matplotlib.pyplot as plt\n",
    "import seaborn as sns\n",
    "from sklearn.tree import DecisionTreeClassifier\n",
    "import torch\n",
    "import torch.nn.functional as F\n",
    "from torch import nn\n",
    "from torch.utils.data import DataLoader,TensorDataset\n",
    "warnings.filterwarnings('ignore')"
   ]
  },
  {
   "cell_type": "code",
   "execution_count": 2,
   "id": "8987ceab",
   "metadata": {},
   "outputs": [],
   "source": [
    "Block31=pd.read_csv('Blocks/Block 31.csv')\n",
    "Block32=pd.read_csv('Blocks/Block 32.csv')\n",
    "test=pd.read_csv('test.csv')\n",
    "\n"
   ]
  },
  {
   "cell_type": "code",
   "execution_count": null,
   "id": "1e9c7a21",
   "metadata": {},
   "outputs": [],
   "source": []
  },
  {
   "cell_type": "code",
   "execution_count": 3,
   "id": "75a1fe71",
   "metadata": {},
   "outputs": [],
   "source": [
    "Block=np.vstack((Block31.values,Block32.values))"
   ]
  },
  {
   "cell_type": "code",
   "execution_count": 70,
   "id": "59b31ec8",
   "metadata": {},
   "outputs": [],
   "source": [
    "X=torch.FloatTensor(Block[:,1:]).cuda('cuda:0')\n",
    "Y=  torch.LongTensor(Block[:,0]).cuda('cuda:0')\n",
    "\n",
    "X_test_all=torch.FloatTensor(test.drop('label',axis=1).values).cuda('cuda:0')\n",
    "Y_test_all=             torch.LongTensor(test['label'].values).cuda('cuda:0')"
   ]
  },
  {
   "cell_type": "code",
   "execution_count": 55,
   "id": "21c8d42f",
   "metadata": {},
   "outputs": [],
   "source": [
    "train_iter=DataLoader(\n",
    "    TensorDataset(\n",
    "        X,\n",
    "        Y\n",
    "    ),\n",
    "    batch_size=2**17,\n",
    "    shuffle=True,\n",
    "    pin_memory=True,\n",
    ")\n",
    "\n",
    "train_iter=DataLoader(\n",
    "    TensorDataset(\n",
    "        X_test,\n",
    "        Y_test\n",
    "    ),\n",
    "    batch_size=2**17,\n",
    "    shuffle=True,\n",
    ")\n",
    "\n",
    "\n"
   ]
  },
  {
   "cell_type": "code",
   "execution_count": null,
   "id": "7137dcc7",
   "metadata": {},
   "outputs": [],
   "source": []
  },
  {
   "cell_type": "code",
   "execution_count": 63,
   "id": "90e565ed",
   "metadata": {},
   "outputs": [],
   "source": [
    "# Xavier初始化权重\n",
    "\n",
    "def xavier(m):\n",
    "    if type(m)==nn.Linear:\n",
    "        nn.init.xavier_uniform_(m.weight)\n",
    "\n",
    "class MyNet(nn.Module):\n",
    "    def __init__(self,input_dim):\n",
    "        super().__init__()\n",
    "        self.f1=nn.Linear(input_dim,input_dim*2)\n",
    "        self.drop1=nn.Dropout(p=0.2)\n",
    "        self.s1=nn.ReLU()\n",
    "        \n",
    "        self.f2=nn.Linear(input_dim*2,input_dim*3)\n",
    "        self.drop2=nn.Dropout(p=0.35)\n",
    "        self.s2=nn.ReLU()\n",
    "        \n",
    "        self.f3=nn.Linear(input_dim*3,input_dim*3)\n",
    "        self.drop3=nn.Dropout(p=0.5)\n",
    "        self.s3=nn.ReLU()    \n",
    "        \n",
    "        self.f4=nn.Linear(input_dim*3,input_dim*2)\n",
    "        self.drop4=nn.Dropout(p=0.35)\n",
    "        self.s4=nn.ReLU()\n",
    "        \n",
    "        self.f5=nn.Linear(input_dim*2,input_dim)\n",
    "        self.drop5=nn.Dropout(p=0.2)\n",
    "        self.s5=nn.ReLU()\n",
    "        \n",
    "        self.f6=nn.Linear(input_dim,2)   \n",
    "        self.s6=nn.Softmax(dim=1)\n",
    "        \n",
    "    \n",
    "    def forward(self,x):\n",
    "        x=self.s1(self.drop1(self.f1(x)))\n",
    "        x=self.s2(self.drop2(self.f2(x)))\n",
    "        x=self.s3(self.drop3(self.f3(x)))\n",
    "        x=self.s4(self.drop4(self.f4(x)))\n",
    "        x=self.s5(self.drop5(self.f5(x)))\n",
    "        return self.f6(x)\n",
    "        \n",
    "#     预测\n",
    "    def predict(self,x):\n",
    "        x=self.s1(self.f1(x))\n",
    "        x=self.s2(self.f2(x))\n",
    "        x=self.s3(self.f3(x))\n",
    "        x=self.s4(self.f4(x))\n",
    "        x=self.s5(self.f5(x))\n",
    "        p=self.s6(self.f6(x))\n",
    "        return (p[:,0]<p[:,1])\n",
    "    \n",
    "#     准确率 \n",
    "    def acc(self,x,y):\n",
    "        with torch.no_grad():\n",
    "            return float(((self.predict(x)==y).sum()/len(y)))\n",
    "        \n",
    "        \n",
    "\n",
    "def train_acc(net,XX,YY):\n",
    "    correct=0\n",
    "    cnt=0\n",
    "    m=2**17\n",
    "    for x,y in data_iter:\n",
    "        print(cnt)\n",
    "        cnt+=len(y)\n",
    "#         correct+=(net.predict(x.cuda('cuda:0'))==y.cuda('cuda:0')).sum()\n",
    "        correct+=(net.predict(x)==y).sum()\n",
    "    return correct/cnt"
   ]
  },
  {
   "cell_type": "code",
   "execution_count": null,
   "id": "3ad6d720",
   "metadata": {},
   "outputs": [],
   "source": []
  },
  {
   "cell_type": "code",
   "execution_count": null,
   "id": "a9d4f407",
   "metadata": {},
   "outputs": [],
   "source": []
  },
  {
   "cell_type": "code",
   "execution_count": null,
   "id": "85a73b39",
   "metadata": {},
   "outputs": [],
   "source": []
  },
  {
   "cell_type": "code",
   "execution_count": null,
   "id": "50a0628d",
   "metadata": {},
   "outputs": [],
   "source": []
  },
  {
   "cell_type": "code",
   "execution_count": 65,
   "id": "858a17b1",
   "metadata": {},
   "outputs": [],
   "source": [
    "net=MyNet(X.shape[1]).cuda(\"cuda:0\")\n",
    "net.apply(xavier);\n"
   ]
  },
  {
   "cell_type": "code",
   "execution_count": 66,
   "id": "a469d0f6",
   "metadata": {},
   "outputs": [],
   "source": [
    "# 用于绘制曲线\n",
    "losses=[]\n",
    "train_acc=[]\n",
    "test_acc=[]\n",
    "\n",
    "# 用于随机抽测试集\n",
    "idx=list(range(len(test)))\n",
    "\n",
    "n_train=len(X)\n",
    "\n"
   ]
  },
  {
   "cell_type": "code",
   "execution_count": 98,
   "id": "c48c9e04",
   "metadata": {},
   "outputs": [
    {
     "name": "stdout",
     "output_type": "stream",
     "text": [
      "0.0%\t10.0%\t20.0%\t30.0%\t40.0%\t50.0%\t60.0%\t70.0%\t80.0%\t90.0%\t100%\n"
     ]
    }
   ],
   "source": [
    "optimizer=torch.optim.Adam(net.parameters(), lr=0.012, betas=(0.9, 0.999), eps=1e-08, weight_decay=0.0000001, amsgrad=True)\n",
    "criterion=torch.nn.CrossEntropyLoss()\n",
    "epochs=10000\n",
    "\n",
    "\n",
    "for i in range(epochs):\n",
    "    \n",
    "    y_pred=net.forward(X)\n",
    "    loss=criterion(y_pred,Y)\n",
    "    \n",
    "\n",
    "    if(i%100)==0:\n",
    "        losses.append(float(loss))\n",
    "        train_acc.append( net.acc(X,Y) )\n",
    "        \n",
    "        np.random.shuffle(idx)\n",
    "        \n",
    "        X_test=X_test_all[idx[n_train:n_train*2]].cuda('cuda:0')\n",
    "        Y_test=Y_test_all[idx[n_train:n_train*2]].cuda('cuda:0')\n",
    "        \n",
    "        test_acc.append(net.acc(X_test,Y_test))\n",
    "        \n",
    "    if(i%(int(epochs*0.1))==0):\n",
    "        print(str((i/epochs)*100)+'%',end='\\t')\n",
    "        \n",
    "    optimizer.zero_grad()\n",
    "    loss.backward()\n",
    "    optimizer.step()\n",
    "print('100%')\n",
    "torch.save(net.state_dict(),'Params/Net32/Net32_'+str(len(train_acc)*100)+'.params')\n"
   ]
  },
  {
   "cell_type": "markdown",
   "id": "3cf7acbb",
   "metadata": {},
   "source": [
    "## 31+32"
   ]
  },
  {
   "cell_type": "code",
   "execution_count": 99,
   "id": "96d9c6da",
   "metadata": {},
   "outputs": [
    {
     "name": "stdout",
     "output_type": "stream",
     "text": [
      "epoch: 16200\n",
      "Train acc:  0.7468960881233215\n",
      "Test acc:   0.739019513130188\n"
     ]
    },
    {
     "data": {
      "image/png": "[encoded data removed]",
      "text/plain": [
       "<Figure size 1152x432 with 2 Axes>"
      ]
     },
     "metadata": {
      "needs_background": "light"
     },
     "output_type": "display_data"
    }
   ],
   "source": [
    "%matplotlib inline\n",
    "fig,ax=plt.subplots(1,2,figsize=(16,6))\n",
    "\n",
    "ax[0].set_xlabel('x100 epochs')\n",
    "ax[0].set_title('Loss')\n",
    "ax[0].plot(   losses,label='Train loss')\n",
    "ax[1].plot(train_acc,label='Train acc')\n",
    "ax[1].plot( test_acc,label='Test acc')\n",
    "ax[1].set_xlabel('x100 epochs')\n",
    "ax[1].set_title('Accuracy')\n",
    "\n",
    "plt.legend()\n",
    "print('epoch: '+str(len(train_acc*100)))\n",
    "print('Train acc: ',net.acc(X,Y))\n",
    "print('Test acc:  ',net.acc(X_test,Y_test))"
   ]
  },
  {
   "cell_type": "code",
   "execution_count": 100,
   "id": "18eb8da1",
   "metadata": {},
   "outputs": [
    {
     "name": "stdout",
     "output_type": "stream",
     "text": [
      "Train acc:  0.7468960881233215\n",
      "Test acc:   0.739019513130188\n"
     ]
    }
   ],
   "source": [
    "%matplotlib qt5\n",
    "fig,ax=plt.subplots(1,2,figsize=(16,6))\n",
    "\n",
    "ax[0].plot(losses,label='Train loss')\n",
    "ax[0].set_xlabel('x100 epochs')\n",
    "ax[0].set_title('Loss')\n",
    "ax[1].plot(train_acc,label='Train acc')\n",
    "ax[1].plot(test_acc,label='Test acc')\n",
    "ax[1].set_xlabel('x100 epochs')\n",
    "ax[1].set_title('Accuracy')\n",
    "\n",
    "plt.legend()\n",
    "print('Train acc: ',net.acc(X,Y))\n",
    "print('Test acc:  ',net.acc(X_test,Y_test))"
   ]
  },
  {
   "cell_type": "code",
   "execution_count": null,
   "id": "e556dd8b",
   "metadata": {},
   "outputs": [],
   "source": []
  },
  {
   "cell_type": "code",
   "execution_count": null,
   "id": "76e50e1c",
   "metadata": {},
   "outputs": [],
   "source": []
  },
  {
   "cell_type": "code",
   "execution_count": null,
   "id": "34a2b074",
   "metadata": {},
   "outputs": [],
   "source": []
  },
  {
   "cell_type": "markdown",
   "id": "92c4a46f",
   "metadata": {},
   "source": [
    "# 41+42"
   ]
  },
  {
   "cell_type": "code",
   "execution_count": 106,
   "id": "37ba805a",
   "metadata": {},
   "outputs": [],
   "source": [
    "Block=np.vstack((\n",
    "    pd.read_csv('Blocks/Block 41.csv').values,\n",
    "    pd.read_csv('Blocks/Block 42.csv').values\n",
    "))\n",
    "X=torch.FloatTensor(Block[:,1:]).cuda('cuda:0')\n",
    "Y=  torch.LongTensor(Block[:,0]).cuda('cuda:0')\n"
   ]
  },
  {
   "cell_type": "code",
   "execution_count": 107,
   "id": "57708ead",
   "metadata": {},
   "outputs": [
    {
     "name": "stdout",
     "output_type": "stream",
     "text": [
      "0.0%\t10.0%\t20.0%\t30.0%\t40.0%\t50.0%\t60.0%\t70.0%\t80.0%\t90.0%\t100%\n"
     ]
    }
   ],
   "source": [
    "optimizer=torch.optim.Adam(net.parameters(), lr=0.012, betas=(0.9, 0.999), eps=1e-08, weight_decay=0.0000001, amsgrad=True)\n",
    "criterion=torch.nn.CrossEntropyLoss()\n",
    "epochs=10000\n",
    "\n",
    "\n",
    "for i in range(epochs):\n",
    "    \n",
    "    y_pred=net.forward(X)\n",
    "    loss=criterion(y_pred,Y)\n",
    "    \n",
    "\n",
    "    if(i%100)==0:\n",
    "        losses.append(float(loss))\n",
    "        train_acc.append( net.acc(X,Y) )\n",
    "        \n",
    "        np.random.shuffle(idx)\n",
    "        \n",
    "        X_test=X_test_all[idx[n_train:n_train*2]].cuda('cuda:0')\n",
    "        Y_test=Y_test_all[idx[n_train:n_train*2]].cuda('cuda:0')\n",
    "        \n",
    "        test_acc.append(net.acc(X_test,Y_test))\n",
    "        \n",
    "    if(i%(int(epochs*0.1))==0):\n",
    "        print(str((i/epochs)*100)+'%',end='\\t')\n",
    "        \n",
    "    optimizer.zero_grad()\n",
    "    loss.backward()\n",
    "    optimizer.step()\n",
    "print('100%')\n",
    "torch.save(net.state_dict(),'Params/Net32/Net32_'+str(len(train_acc)*100)+'.params')\n"
   ]
  },
  {
   "cell_type": "markdown",
   "id": "c9c1297c",
   "metadata": {},
   "source": [
    "## 41+42"
   ]
  },
  {
   "cell_type": "code",
   "execution_count": 108,
   "id": "6a32035a",
   "metadata": {},
   "outputs": [
    {
     "name": "stdout",
     "output_type": "stream",
     "text": [
      "epoch: 26200\n",
      "Train acc:  0.7470616698265076\n",
      "Test acc:   0.738012969493866\n"
     ]
    },
    {
     "data": {
      "image/png": "[encoded data removed]",
      "text/plain": [
       "<Figure size 1152x432 with 2 Axes>"
      ]
     },
     "metadata": {
      "needs_background": "light"
     },
     "output_type": "display_data"
    }
   ],
   "source": [
    "%matplotlib inline\n",
    "fig,ax=plt.subplots(1,2,figsize=(16,6))\n",
    "\n",
    "ax[0].set_xlabel('x100 epochs')\n",
    "ax[0].set_title('Loss')\n",
    "ax[0].plot(   losses,label='Train loss')\n",
    "ax[1].plot(train_acc,label='Train acc')\n",
    "ax[1].plot( test_acc,label='Test acc')\n",
    "ax[1].set_xlabel('x100 epochs')\n",
    "ax[1].set_title('Accuracy')\n",
    "\n",
    "plt.legend()\n",
    "print('epoch: '+str(len(train_acc*100)))\n",
    "print('Train acc: ',net.acc(X,Y))\n",
    "print('Test acc:  ',net.acc(X_test,Y_test))"
   ]
  },
  {
   "cell_type": "code",
   "execution_count": 111,
   "id": "711c9d04",
   "metadata": {},
   "outputs": [
    {
     "name": "stdout",
     "output_type": "stream",
     "text": [
      "Train acc:  0.7470616698265076\n",
      "Test acc:   0.738012969493866\n"
     ]
    }
   ],
   "source": [
    "%matplotlib qt5\n",
    "fig,ax=plt.subplots(1,2,figsize=(16,6))\n",
    "\n",
    "ax[0].plot(losses,label='Train loss')\n",
    "ax[0].set_xlabel('x100 epochs')\n",
    "ax[0].set_title('Loss')\n",
    "ax[1].plot(train_acc,label='Train acc')\n",
    "ax[1].plot(test_acc,label='Test acc')\n",
    "ax[1].set_xlabel('x100 epochs')\n",
    "ax[1].set_title('Accuracy')\n",
    "\n",
    "plt.legend()\n",
    "print('Train acc: ',net.acc(X,Y))\n",
    "print('Test acc:  ',net.acc(X_test,Y_test))"
   ]
  },
  {
   "cell_type": "markdown",
   "id": "bc381705",
   "metadata": {},
   "source": [
    "## 先使用Block3132训练，再使用Block4142训练 ，不行"
   ]
  },
  {
   "cell_type": "code",
   "execution_count": null,
   "id": "4d303eca",
   "metadata": {},
   "outputs": [],
   "source": []
  },
  {
   "cell_type": "code",
   "execution_count": null,
   "id": "2433b664",
   "metadata": {},
   "outputs": [],
   "source": []
  },
  {
   "cell_type": "code",
   "execution_count": null,
   "id": "c01d6fe2",
   "metadata": {},
   "outputs": [],
   "source": []
  },
  {
   "cell_type": "code",
   "execution_count": null,
   "id": "e285e4a6",
   "metadata": {},
   "outputs": [],
   "source": []
  },
  {
   "cell_type": "code",
   "execution_count": null,
   "id": "43e9e9ed",
   "metadata": {},
   "outputs": [],
   "source": []
  },
  {
   "cell_type": "code",
   "execution_count": null,
   "id": "70fe1064",
   "metadata": {},
   "outputs": [],
   "source": []
  }
 ],
 "metadata": {
  "kernelspec": {
   "display_name": "Python 3",
   "language": "python",
   "name": "python3"
  },
  "language_info": {
   "codemirror_mode": {
    "name": "ipython",
    "version": 3
   },
   "file_extension": ".py",
   "mimetype": "text/x-python",
   "name": "python",
   "nbconvert_exporter": "python",
   "pygments_lexer": "ipython3",
   "version": "3.8.8"
  }
 },
 "nbformat": 4,
 "nbformat_minor": 5
}
